{
  "nbformat": 4,
  "nbformat_minor": 0,
  "metadata": {
    "colab": {
      "provenance": [],
      "gpuType": "T4",
      "authorship_tag": "ABX9TyMnJbC/uOmJjUvWCGg3voXs",
      "include_colab_link": true
    },
    "kernelspec": {
      "name": "python3",
      "display_name": "Python 3"
    },
    "language_info": {
      "name": "python"
    },
    "accelerator": "GPU"
  },
  "cells": [
    {
      "cell_type": "markdown",
      "metadata": {
        "id": "view-in-github",
        "colab_type": "text"
      },
      "source": [
        "<a href=\"https://colab.research.google.com/github/ShriVarshaan/pytorch-learning-log/blob/main/pytorch_workflow_fundamentals.ipynb\" target=\"_parent\"><img src=\"https://colab.research.google.com/assets/colab-badge.svg\" alt=\"Open In Colab\"/></a>"
      ]
    },
    {
      "cell_type": "code",
      "execution_count": 2,
      "metadata": {
        "colab": {
          "base_uri": "https://localhost:8080/",
          "height": 36
        },
        "id": "e2YJjdI9MAUj",
        "outputId": "adbcd055-1b11-408c-e4fd-4de353480dc5"
      },
      "outputs": [
        {
          "output_type": "execute_result",
          "data": {
            "text/plain": [
              "'2.6.0+cu124'"
            ],
            "application/vnd.google.colaboratory.intrinsic+json": {
              "type": "string"
            }
          },
          "metadata": {},
          "execution_count": 2
        }
      ],
      "source": [
        "import torch\n",
        "import numpy as np\n",
        "from torch import nn #nn contains all of Pytorch's building blocks for neural networks\n",
        "import matplotlib.pyplot as plt\n",
        "\n",
        "torch.__version__"
      ]
    },
    {
      "cell_type": "markdown",
      "source": [
        "##Preparing and loading data\n",
        "\n",
        "* Excel spreadsheets\n",
        "* Images\n",
        "* Video\n",
        "* audio\n",
        "* DNA\n",
        "* Text\n",
        "\n",
        "And many more\n",
        "\n",
        "1) get data into numerical representation\n",
        "\n",
        "2) build a model to learn patterns in that numerical representation"
      ],
      "metadata": {
        "id": "oX6zx5HCNANu"
      }
    },
    {
      "cell_type": "markdown",
      "source": [
        "We will start with making a linear regression formula with know parameters"
      ],
      "metadata": {
        "id": "TZNkclAMNqdX"
      }
    },
    {
      "cell_type": "code",
      "source": [
        "weight = 0.7 #w1\n",
        "bias = 0.3 #w0\n",
        "\n",
        "start = 0\n",
        "end = 1\n",
        "step = 0.02\n",
        "X = torch.arange(start,end,step).unsqueeze(dim=1)\n",
        "y = weight * X + bias\n",
        "\n",
        "X"
      ],
      "metadata": {
        "colab": {
          "base_uri": "https://localhost:8080/"
        },
        "id": "4Pw3f-lgO1Ep",
        "outputId": "30846db9-2521-4d8b-8930-e3b25a7c3148"
      },
      "execution_count": 3,
      "outputs": [
        {
          "output_type": "execute_result",
          "data": {
            "text/plain": [
              "tensor([[0.0000],\n",
              "        [0.0200],\n",
              "        [0.0400],\n",
              "        [0.0600],\n",
              "        [0.0800],\n",
              "        [0.1000],\n",
              "        [0.1200],\n",
              "        [0.1400],\n",
              "        [0.1600],\n",
              "        [0.1800],\n",
              "        [0.2000],\n",
              "        [0.2200],\n",
              "        [0.2400],\n",
              "        [0.2600],\n",
              "        [0.2800],\n",
              "        [0.3000],\n",
              "        [0.3200],\n",
              "        [0.3400],\n",
              "        [0.3600],\n",
              "        [0.3800],\n",
              "        [0.4000],\n",
              "        [0.4200],\n",
              "        [0.4400],\n",
              "        [0.4600],\n",
              "        [0.4800],\n",
              "        [0.5000],\n",
              "        [0.5200],\n",
              "        [0.5400],\n",
              "        [0.5600],\n",
              "        [0.5800],\n",
              "        [0.6000],\n",
              "        [0.6200],\n",
              "        [0.6400],\n",
              "        [0.6600],\n",
              "        [0.6800],\n",
              "        [0.7000],\n",
              "        [0.7200],\n",
              "        [0.7400],\n",
              "        [0.7600],\n",
              "        [0.7800],\n",
              "        [0.8000],\n",
              "        [0.8200],\n",
              "        [0.8400],\n",
              "        [0.8600],\n",
              "        [0.8800],\n",
              "        [0.9000],\n",
              "        [0.9200],\n",
              "        [0.9400],\n",
              "        [0.9600],\n",
              "        [0.9800]])"
            ]
          },
          "metadata": {},
          "execution_count": 3
        }
      ]
    },
    {
      "cell_type": "code",
      "source": [
        "len(X), len(y)"
      ],
      "metadata": {
        "colab": {
          "base_uri": "https://localhost:8080/"
        },
        "id": "S59vfxJOPNK_",
        "outputId": "5a4174d9-bf2e-4a5c-eb43-e083de2c8b1c"
      },
      "execution_count": 4,
      "outputs": [
        {
          "output_type": "execute_result",
          "data": {
            "text/plain": [
              "(50, 50)"
            ]
          },
          "metadata": {},
          "execution_count": 4
        }
      ]
    },
    {
      "cell_type": "markdown",
      "source": [
        "###Splitting data into training and test sets"
      ],
      "metadata": {
        "id": "reJ80msoPk09"
      }
    },
    {
      "cell_type": "code",
      "source": [
        "train_split = int(0.8 * len(X))\n",
        "X_train = X[:train_split]\n",
        "y_train = y[:train_split]\n",
        "X_test = X[train_split:]\n",
        "y_test = y[train_split:]\n",
        "\n",
        "#not using validation set yet as this is simple\n",
        "len(X_train), len(y_train), len(X_test), len(y_test)"
      ],
      "metadata": {
        "colab": {
          "base_uri": "https://localhost:8080/"
        },
        "id": "hpEn8HSCQLbN",
        "outputId": "95987905-4d5f-4f8a-a3d0-81354686037b"
      },
      "execution_count": 5,
      "outputs": [
        {
          "output_type": "execute_result",
          "data": {
            "text/plain": [
              "(40, 40, 10, 10)"
            ]
          },
          "metadata": {},
          "execution_count": 5
        }
      ]
    },
    {
      "cell_type": "code",
      "source": [
        "X_train, y_train"
      ],
      "metadata": {
        "colab": {
          "base_uri": "https://localhost:8080/"
        },
        "id": "7blQbSyYRTIN",
        "outputId": "1ebd4ddb-44d0-4398-c2ba-7ad00e746c76"
      },
      "execution_count": 6,
      "outputs": [
        {
          "output_type": "execute_result",
          "data": {
            "text/plain": [
              "(tensor([[0.0000],\n",
              "         [0.0200],\n",
              "         [0.0400],\n",
              "         [0.0600],\n",
              "         [0.0800],\n",
              "         [0.1000],\n",
              "         [0.1200],\n",
              "         [0.1400],\n",
              "         [0.1600],\n",
              "         [0.1800],\n",
              "         [0.2000],\n",
              "         [0.2200],\n",
              "         [0.2400],\n",
              "         [0.2600],\n",
              "         [0.2800],\n",
              "         [0.3000],\n",
              "         [0.3200],\n",
              "         [0.3400],\n",
              "         [0.3600],\n",
              "         [0.3800],\n",
              "         [0.4000],\n",
              "         [0.4200],\n",
              "         [0.4400],\n",
              "         [0.4600],\n",
              "         [0.4800],\n",
              "         [0.5000],\n",
              "         [0.5200],\n",
              "         [0.5400],\n",
              "         [0.5600],\n",
              "         [0.5800],\n",
              "         [0.6000],\n",
              "         [0.6200],\n",
              "         [0.6400],\n",
              "         [0.6600],\n",
              "         [0.6800],\n",
              "         [0.7000],\n",
              "         [0.7200],\n",
              "         [0.7400],\n",
              "         [0.7600],\n",
              "         [0.7800]]),\n",
              " tensor([[0.3000],\n",
              "         [0.3140],\n",
              "         [0.3280],\n",
              "         [0.3420],\n",
              "         [0.3560],\n",
              "         [0.3700],\n",
              "         [0.3840],\n",
              "         [0.3980],\n",
              "         [0.4120],\n",
              "         [0.4260],\n",
              "         [0.4400],\n",
              "         [0.4540],\n",
              "         [0.4680],\n",
              "         [0.4820],\n",
              "         [0.4960],\n",
              "         [0.5100],\n",
              "         [0.5240],\n",
              "         [0.5380],\n",
              "         [0.5520],\n",
              "         [0.5660],\n",
              "         [0.5800],\n",
              "         [0.5940],\n",
              "         [0.6080],\n",
              "         [0.6220],\n",
              "         [0.6360],\n",
              "         [0.6500],\n",
              "         [0.6640],\n",
              "         [0.6780],\n",
              "         [0.6920],\n",
              "         [0.7060],\n",
              "         [0.7200],\n",
              "         [0.7340],\n",
              "         [0.7480],\n",
              "         [0.7620],\n",
              "         [0.7760],\n",
              "         [0.7900],\n",
              "         [0.8040],\n",
              "         [0.8180],\n",
              "         [0.8320],\n",
              "         [0.8460]]))"
            ]
          },
          "metadata": {},
          "execution_count": 6
        }
      ]
    },
    {
      "cell_type": "markdown",
      "source": [
        "Visualising our data\n",
        "\n",
        "Data explorer's motto - \"visualise, visualise, visualise\""
      ],
      "metadata": {
        "id": "2ZaSyLXXSLfp"
      }
    },
    {
      "cell_type": "code",
      "source": [
        "#plots training data, test data and compares predictions\n",
        "def plot_predictions(train_data=X_train,\n",
        "                     train_labels=y_train,\n",
        "                     test_data=X_test,\n",
        "                     test_labels=y_test,\n",
        "                     predictions=None):\n",
        "  plt.figure(figsize=(10,7))\n",
        "\n",
        "  #Plotting training data in blue\n",
        "  plt.scatter(train_data, train_labels, c=\"b\", s=4, label=\"Training Data\")\n",
        "\n",
        "  #Plotting test data in green\n",
        "  plt.scatter(test_data, test_labels, c=\"g\", s=4, label=\"Testing Data\")\n",
        "\n",
        "  #if there are predictions we will plot them\n",
        "  if predictions is not None:\n",
        "    plt.scatter(test_data, predictions, c=\"r\", s=4, label=\"Predictions\")\n",
        "\n",
        "  #showing the legend\n",
        "  plt.legend(prop={\"size\":15})\n"
      ],
      "metadata": {
        "id": "y_GZnyreS-D9"
      },
      "execution_count": 10,
      "outputs": []
    },
    {
      "cell_type": "code",
      "source": [
        "plot_predictions()"
      ],
      "metadata": {
        "colab": {
          "base_uri": "https://localhost:8080/",
          "height": 599
        },
        "id": "gNJ2meBvTzZm",
        "outputId": "4dad8d62-e312-4338-dcc3-6a66c2d96dc2"
      },
      "execution_count": 11,
      "outputs": [
        {
          "output_type": "display_data",
          "data": {
            "text/plain": [
              "<Figure size 1000x700 with 1 Axes>"
            ],
            "image/png": "[encoded data removed]"
          },
          "metadata": {}
        }
      ]
    },
    {
      "cell_type": "markdown",
      "source": [
        "##Building pytorch model\n",
        "\n",
        "We will be building a linear regression model\n",
        "\n",
        "our model starts with random values and adjusts these values to get ideal values\n",
        "\n",
        "We can do this in two ways\n",
        "\n",
        "1) gradient descent\n",
        "\n",
        "2) back propogation"
      ],
      "metadata": {
        "id": "g_sKDYXjoAvd"
      }
    },
    {
      "cell_type": "code",
      "source": [
        "class LinearRegressionModel(nn.Module):\n",
        "  def __init__(self):\n",
        "    super().__init__()\n",
        "    self.weights = nn.Parameter(torch.randn(1,\n",
        "                                           requires_grad = True,\n",
        "                                           dtype=torch.float)) #We have requires grad to True for gradient descent, pytorch will keep track of the gradients of the weights parameter and update them through gradient descent and back propogration\n",
        "    self.bias = nn.Parameter(torch.randn(1,\n",
        "                                        requires_grad = True, #This parameter can be updated via gradient descent\n",
        "                                        dtype=torch.float))\n",
        "\n",
        "    #any subclass of nn.Module requires a forward method\n",
        "    #forward defines the computation performed by the model, in this case it is linear regression\n",
        "  def forward(self, x: torch.Tensor) -> torch.Tensor:\n",
        "    return self.weights * x + self.bias #This is the linear regression formula"
      ],
      "metadata": {
        "id": "FK4P5W5noj5t"
      },
      "execution_count": 12,
      "outputs": []
    },
    {
      "cell_type": "markdown",
      "source": [
        "###Pytorch model building essentials\n",
        "\n",
        "* torch.nn -- contains all of the building blocks for computational graphs (a neural network can be considered a computational graph)\n",
        "\n",
        "* torch.nn.Parameter -- the parameters our model needs to try and learn\n",
        "\n",
        "* torch.nn.Module -- The base class for all neural network modules, if we subclass it we must override forward()\n",
        "\n",
        "* torch.optim - this is where the optimizers are, helps with gradient descent\n",
        "\n",
        "* def forward() -- All nn.Module subclasses require us to overwrite forward. This method defines what happens in the forward computation"
      ],
      "metadata": {
        "id": "svGwJLw7qE5B"
      }
    },
    {
      "cell_type": "code",
      "source": [
        "#We will make a random seed as our model uses .randn\n",
        "torch.manual_seed(42)\n",
        "\n",
        "#Instance of the model that we have made\n",
        "model_0 = LinearRegressionModel()\n",
        "list(model_0.parameters())"
      ],
      "metadata": {
        "colab": {
          "base_uri": "https://localhost:8080/"
        },
        "id": "AoYQyVl--cd3",
        "outputId": "5499f8f2-1a78-4911-bdca-fa081c3be99d"
      },
      "execution_count": 13,
      "outputs": [
        {
          "output_type": "execute_result",
          "data": {
            "text/plain": [
              "[Parameter containing:\n",
              " tensor([0.3367], requires_grad=True),\n",
              " Parameter containing:\n",
              " tensor([0.1288], requires_grad=True)]"
            ]
          },
          "metadata": {},
          "execution_count": 13
        }
      ]
    },
    {
      "cell_type": "code",
      "source": [
        "model_0.state_dict() #gives a dictionary which is easier to read than our list"
      ],
      "metadata": {
        "colab": {
          "base_uri": "https://localhost:8080/"
        },
        "id": "owCuKyvNBHri",
        "outputId": "5b399eb7-3bcf-48f3-b978-9f77bd943fc2"
      },
      "execution_count": 14,
      "outputs": [
        {
          "output_type": "execute_result",
          "data": {
            "text/plain": [
              "OrderedDict([('weights', tensor([0.3367])), ('bias', tensor([0.1288]))])"
            ]
          },
          "metadata": {},
          "execution_count": 14
        }
      ]
    },
    {
      "cell_type": "markdown",
      "source": [
        "###making predictions using torch.inference_mode()\n",
        "\n",
        "To check our model's power we will see how well it predicts y_test based on X_test\n",
        "\n",
        "We are doing this as of now without optimising our model's weight and bias\n",
        "\n",
        "When we pass data through our model, it'll run through the forward() method"
      ],
      "metadata": {
        "id": "g-yEcCjmBa2s"
      }
    },
    {
      "cell_type": "code",
      "source": [
        "X_test"
      ],
      "metadata": {
        "colab": {
          "base_uri": "https://localhost:8080/"
        },
        "id": "0qicTR0nC77j",
        "outputId": "21ce92c2-eced-4d54-da19-899344baa1cb"
      },
      "execution_count": 15,
      "outputs": [
        {
          "output_type": "execute_result",
          "data": {
            "text/plain": [
              "tensor([[0.8000],\n",
              "        [0.8200],\n",
              "        [0.8400],\n",
              "        [0.8600],\n",
              "        [0.8800],\n",
              "        [0.9000],\n",
              "        [0.9200],\n",
              "        [0.9400],\n",
              "        [0.9600],\n",
              "        [0.9800]])"
            ]
          },
          "metadata": {},
          "execution_count": 15
        }
      ]
    },
    {
      "cell_type": "code",
      "source": [
        "#this is a context manager, can be done directly without it but put this in\n",
        "# It basically turns off gradient tracking which makes it faster as pytorch has to keep track of a lesser amount of data\n",
        "#can use torch.no_grad() as well but inference_mode() is better and newer\n",
        "with torch.inference_mode():\n",
        "  y_preds = model_0(X_test)\n",
        "\n",
        "y_preds"
      ],
      "metadata": {
        "colab": {
          "base_uri": "https://localhost:8080/"
        },
        "id": "JLQEPKR3CnYK",
        "outputId": "d7c0ec33-2725-47ad-c7c2-96fd04892f5a"
      },
      "execution_count": 16,
      "outputs": [
        {
          "output_type": "execute_result",
          "data": {
            "text/plain": [
              "tensor([[0.3982],\n",
              "        [0.4049],\n",
              "        [0.4116],\n",
              "        [0.4184],\n",
              "        [0.4251],\n",
              "        [0.4318],\n",
              "        [0.4386],\n",
              "        [0.4453],\n",
              "        [0.4520],\n",
              "        [0.4588]])"
            ]
          },
          "metadata": {},
          "execution_count": 16
        }
      ]
    },
    {
      "cell_type": "code",
      "source": [
        "plot_predictions(predictions=y_preds) #The predictions are far off as we haven't trained our model yet, we have just run it using the random initial values"
      ],
      "metadata": {
        "colab": {
          "base_uri": "https://localhost:8080/",
          "height": 599
        },
        "id": "NmHU_9qvC_Ya",
        "outputId": "46e0dbf3-aa22-4a14-94d4-68c0bc9a4023"
      },
      "execution_count": 17,
      "outputs": [
        {
          "output_type": "display_data",
          "data": {
            "text/plain": [
              "<Figure size 1000x700 with 1 Axes>"
            ],
            "image/png": "[encoded data removed]"
          },
          "metadata": {}
        }
      ]
    },
    {
      "cell_type": "markdown",
      "source": [
        "###Training our model\n",
        "\n",
        "We need a loss function\n",
        "\n",
        "We need an optimizer, which takes into account the loss of a model and adjusts our parameters"
      ],
      "metadata": {
        "id": "n7qPFu3ODmER"
      }
    },
    {
      "cell_type": "code",
      "source": [
        "model_0.state_dict()"
      ],
      "metadata": {
        "colab": {
          "base_uri": "https://localhost:8080/"
        },
        "id": "uoumoHTVFW5L",
        "outputId": "c9319331-def6-41f5-8910-b35d019864cd"
      },
      "execution_count": 18,
      "outputs": [
        {
          "output_type": "execute_result",
          "data": {
            "text/plain": [
              "OrderedDict([('weights', tensor([0.3367])), ('bias', tensor([0.1288]))])"
            ]
          },
          "metadata": {},
          "execution_count": 18
        }
      ]
    },
    {
      "cell_type": "code",
      "source": [
        "#Setting up a loss function\n",
        "loss_fn = nn.L1Loss()\n",
        "\n",
        "#Setting up an optimizer\n",
        "#stochastic gradient descent\n",
        "#lr is the learning rate\n",
        "optimizer = torch.optim.SGD(params=model_0.parameters(),\n",
        "                            lr=0.01)"
      ],
      "metadata": {
        "id": "o5G6dit5GWeB"
      },
      "execution_count": 19,
      "outputs": []
    },
    {
      "cell_type": "markdown",
      "source": [
        "###Building a training and testing loop\n",
        "\n",
        "Things we need in a training loop:\n",
        "\n",
        "0) Loop through the data\n",
        "\n",
        "1) Forward pass (this involves the data moving through our forward method) -- also called forward propagation\n",
        "\n",
        "2) Calculate the loss\n",
        "\n",
        "3) Optimizer zero grad\n",
        "\n",
        "4) Loss backward - move backwards through the network to calculate the gradients of each of the parameters of our model with respect to the loss (back propagation)\n",
        "\n",
        "5) Optimizer step - Use the optimizer to adjust our model's parameters to improve the loss (gradient descent)"
      ],
      "metadata": {
        "id": "YxJdQj6vJwBM"
      }
    },
    {
      "cell_type": "code",
      "source": [
        "#An epoch is one loop through the data (This is a hyperparameter as we have set is ourselves, so is the learning rate)\n",
        "torch.manual_seed(42)\n",
        "epochs = 200\n",
        "\n",
        "#Keeping track of different values so we can compare future experiments to past experiments\n",
        "epoch_count = []\n",
        "loss_values = []\n",
        "test_loss_values = []\n",
        "\n",
        "#Loop through the data\n",
        "for epoch in range(epochs):\n",
        "  #Set the model to training mode\n",
        "  model_0.train() #train mode in pytorch sets all parameters that require gradients to require gradients\n",
        "\n",
        "  #1 forward pass, basically calculating f\n",
        "  y_pred = model_0(X_train) # we will be comparing this with the y_test to minimise loss\n",
        "\n",
        "  #2 calculating the loss using the loss function we set up\n",
        "  #The order is predictions first then the actual labels, check the documentation just to be safe, in this case it is MAE so the order doesn't matter but it might matter in some cases\n",
        "  loss = loss_fn(y_pred, y_train)\n",
        "\n",
        "  #3 Optimiser zero grad\n",
        "  optimizer.zero_grad()\n",
        "\n",
        "  #4 Perform backpropogation on the loss with respect to the parameters of the model\n",
        "  loss.backward()\n",
        "\n",
        "  #5 Step the optimizer (perform gradient desecnt), updates our parameters\n",
        "  optimizer.step() #by deafult how the optimizer changes will accumulate through the loop, so we are zeroing it in step 3\n",
        "\n",
        "\n",
        "  ###Testing code\n",
        "  model_0.eval() #turns off settings in the model not needed for evaluation and testing\n",
        "  with torch.inference_mode(): #this turns off gradient tracking\n",
        "    #1 Do the forward pass\n",
        "    y_preds_eval = model_0(X_test)\n",
        "\n",
        "    #2 Calculate the loss\n",
        "    test_loss = loss_fn(y_preds_eval, y_test)\n",
        "\n",
        "  if(epoch % 10 == 0):\n",
        "    epoch_count.append(epoch)\n",
        "    loss_values.append(loss)\n",
        "    test_loss_values.append(test_loss)\n"
      ],
      "metadata": {
        "id": "jolcurAKKYwq"
      },
      "execution_count": 21,
      "outputs": []
    },
    {
      "cell_type": "code",
      "source": [
        "with torch.inference_mode():\n",
        "  y_preds_new = model_0(X_test)\n",
        "y_preds_new"
      ],
      "metadata": {
        "colab": {
          "base_uri": "https://localhost:8080/"
        },
        "id": "Csy-xlLh2MJh",
        "outputId": "401f9962-c99e-4b74-9d37-a729d2bbdd63"
      },
      "execution_count": 22,
      "outputs": [
        {
          "output_type": "execute_result",
          "data": {
            "text/plain": [
              "tensor([[0.8685],\n",
              "        [0.8825],\n",
              "        [0.8965],\n",
              "        [0.9105],\n",
              "        [0.9245],\n",
              "        [0.9384],\n",
              "        [0.9524],\n",
              "        [0.9664],\n",
              "        [0.9804],\n",
              "        [0.9944]])"
            ]
          },
          "metadata": {},
          "execution_count": 22
        }
      ]
    },
    {
      "cell_type": "code",
      "source": [
        "plot_predictions(predictions=y_preds_new)"
      ],
      "metadata": {
        "colab": {
          "base_uri": "https://localhost:8080/",
          "height": 599
        },
        "id": "woyCs4DV2qUu",
        "outputId": "d39deb69-b2b3-4d8f-ffec-808e69068b76"
      },
      "execution_count": 23,
      "outputs": [
        {
          "output_type": "display_data",
          "data": {
            "text/plain": [
              "<Figure size 1000x700 with 1 Axes>"
            ],
            "image/png": "[encoded data removed]"
          },
          "metadata": {}
        }
      ]
    },
    {
      "cell_type": "code",
      "source": [
        "torch.tensor(loss_values), loss_values"
      ],
      "metadata": {
        "colab": {
          "base_uri": "https://localhost:8080/"
        },
        "id": "e7oom01u2uxf",
        "outputId": "d3c37447-56ca-4ab7-c03e-465d03b8ec9e"
      },
      "execution_count": 24,
      "outputs": [
        {
          "output_type": "execute_result",
          "data": {
            "text/plain": [
              "(tensor([0.0089, 0.0089, 0.0089, 0.0089, 0.0089, 0.0089, 0.0089, 0.0089, 0.0089,\n",
              "         0.0089, 0.0089, 0.0089, 0.0089, 0.0089, 0.0089, 0.0089, 0.0089, 0.0089,\n",
              "         0.0089, 0.0089]),\n",
              " [tensor(0.0089, grad_fn=<MeanBackward0>),\n",
              "  tensor(0.0089, grad_fn=<MeanBackward0>),\n",
              "  tensor(0.0089, grad_fn=<MeanBackward0>),\n",
              "  tensor(0.0089, grad_fn=<MeanBackward0>),\n",
              "  tensor(0.0089, grad_fn=<MeanBackward0>),\n",
              "  tensor(0.0089, grad_fn=<MeanBackward0>),\n",
              "  tensor(0.0089, grad_fn=<MeanBackward0>),\n",
              "  tensor(0.0089, grad_fn=<MeanBackward0>),\n",
              "  tensor(0.0089, grad_fn=<MeanBackward0>),\n",
              "  tensor(0.0089, grad_fn=<MeanBackward0>),\n",
              "  tensor(0.0089, grad_fn=<MeanBackward0>),\n",
              "  tensor(0.0089, grad_fn=<MeanBackward0>),\n",
              "  tensor(0.0089, grad_fn=<MeanBackward0>),\n",
              "  tensor(0.0089, grad_fn=<MeanBackward0>),\n",
              "  tensor(0.0089, grad_fn=<MeanBackward0>),\n",
              "  tensor(0.0089, grad_fn=<MeanBackward0>),\n",
              "  tensor(0.0089, grad_fn=<MeanBackward0>),\n",
              "  tensor(0.0089, grad_fn=<MeanBackward0>),\n",
              "  tensor(0.0089, grad_fn=<MeanBackward0>),\n",
              "  tensor(0.0089, grad_fn=<MeanBackward0>)])"
            ]
          },
          "metadata": {},
          "execution_count": 24
        }
      ]
    },
    {
      "cell_type": "code",
      "source": [
        "plt.plot(epoch_count, torch.tensor(loss_values), label=\"Train Loss\")\n",
        "plt.plot(epoch_count, torch.tensor(test_loss_values), label=\"Test loss\")\n",
        "plt.title(\"Training and test loss curve\")\n",
        "plt.ylabel(\"Loss\")\n",
        "plt.xlabel(\"Epochs\")\n",
        "plt.show()"
      ],
      "metadata": {
        "colab": {
          "base_uri": "https://localhost:8080/",
          "height": 472
        },
        "id": "1CJFlYYganOy",
        "outputId": "eb4d43e2-464e-4138-e696-e5a23d43582b"
      },
      "execution_count": 26,
      "outputs": [
        {
          "output_type": "display_data",
          "data": {
            "text/plain": [
              "<Figure size 640x480 with 1 Axes>"
            ],
            "image/png": "[encoded data removed]"
          },
          "metadata": {}
        }
      ]
    },
    {
      "cell_type": "markdown",
      "source": [
        "##Saving a model in pytorch\n",
        "\n",
        "There are three main methods for saving and loading\n",
        "\n",
        "1) torch.save() -- allows us to save a pytorch object in python's pickle format\n",
        "\n",
        "2) torch.load() -- allows us to load a saved pytorch object\n",
        "\n",
        "3) torch.nn.Module.load_state_dict() -- this allows us to load a model's saved state dictionary"
      ],
      "metadata": {
        "id": "_LiBIIrBcECl"
      }
    },
    {
      "cell_type": "code",
      "source": [
        "model_0.state_dict()"
      ],
      "metadata": {
        "colab": {
          "base_uri": "https://localhost:8080/"
        },
        "id": "3XBtK0uySYrK",
        "outputId": "1761c461-a0c4-4e05-8b16-6ed4031eb1b6"
      },
      "execution_count": 27,
      "outputs": [
        {
          "output_type": "execute_result",
          "data": {
            "text/plain": [
              "OrderedDict([('weights', tensor([0.6990])), ('bias', tensor([0.3093]))])"
            ]
          },
          "metadata": {},
          "execution_count": 27
        }
      ]
    },
    {
      "cell_type": "code",
      "source": [
        "#Saving our pytorch model\n",
        "from pathlib import Path\n",
        "\n",
        "#1 we will create a models directory\n",
        "MODEL_PATH = Path(\"models\")\n",
        "MODEL_PATH.mkdir(parents=True, exist_ok=True)\n",
        "\n",
        "#2 Create a model save path\n",
        "MODEL_NAME = \"pytorch_workflow_model_0.pth\" #.pth is extension used to save models\n",
        "MODEL_SAVE_PATH = MODEL_PATH / MODEL_NAME\n",
        "\n",
        "#3 save the model state_dict, we could save the entire model but this is recommended\n",
        "torch.save(obj=model_0.state_dict(),\n",
        "           f=MODEL_SAVE_PATH)\n"
      ],
      "metadata": {
        "id": "UR6-Uqr1SdRo"
      },
      "execution_count": 28,
      "outputs": []
    },
    {
      "cell_type": "markdown",
      "source": [
        "##Loading a pytorch model\n",
        "\n",
        "since we saved just the state_dict and not the entire model, we will create a new instance of our model class and load the state_dict() there"
      ],
      "metadata": {
        "id": "s12NEXe_Yjbn"
      }
    },
    {
      "cell_type": "code",
      "source": [
        "loaded_model_0 = LinearRegressionModel()\n",
        "\n",
        "#loading the saved state_dict of model_0 which will update the new instance with the updated parameters"
      ],
      "metadata": {
        "id": "Ad6HSNpKYufX"
      },
      "execution_count": 29,
      "outputs": []
    },
    {
      "cell_type": "code",
      "source": [
        "loaded_model_0.state_dict(), model_0.state_dict()"
      ],
      "metadata": {
        "colab": {
          "base_uri": "https://localhost:8080/"
        },
        "id": "rz4FTdk2ZDhX",
        "outputId": "076e779f-4e54-4dc2-f7d0-b47555e22b39"
      },
      "execution_count": 30,
      "outputs": [
        {
          "output_type": "execute_result",
          "data": {
            "text/plain": [
              "(OrderedDict([('weights', tensor([0.3367])), ('bias', tensor([0.1288]))]),\n",
              " OrderedDict([('weights', tensor([0.6990])), ('bias', tensor([0.3093]))]))"
            ]
          },
          "metadata": {},
          "execution_count": 30
        }
      ]
    },
    {
      "cell_type": "code",
      "source": [
        "loaded_model_0.load_state_dict(torch.load(f=MODEL_SAVE_PATH))"
      ],
      "metadata": {
        "colab": {
          "base_uri": "https://localhost:8080/"
        },
        "id": "02ihkxToZGHI",
        "outputId": "6a502508-489f-42d9-a867-eab6cd161d9d"
      },
      "execution_count": 31,
      "outputs": [
        {
          "output_type": "execute_result",
          "data": {
            "text/plain": [
              "<All keys matched successfully>"
            ]
          },
          "metadata": {},
          "execution_count": 31
        }
      ]
    },
    {
      "cell_type": "code",
      "source": [
        "loaded_model_0.state_dict()"
      ],
      "metadata": {
        "colab": {
          "base_uri": "https://localhost:8080/"
        },
        "id": "0WS8LZMxZcm4",
        "outputId": "7c28c263-adb7-4932-9ab3-b367a47c9875"
      },
      "execution_count": 32,
      "outputs": [
        {
          "output_type": "execute_result",
          "data": {
            "text/plain": [
              "OrderedDict([('weights', tensor([0.6990])), ('bias', tensor([0.3093]))])"
            ]
          },
          "metadata": {},
          "execution_count": 32
        }
      ]
    },
    {
      "cell_type": "code",
      "source": [
        "#making predictions with our saved model\n",
        "\n",
        "loaded_model_0.eval()\n",
        "with torch.inference_mode():\n",
        "  y_pred_loaded = loaded_model_0(X_test)\n",
        "\n",
        "plot_predictions(predictions=y_pred_loaded)"
      ],
      "metadata": {
        "colab": {
          "base_uri": "https://localhost:8080/",
          "height": 599
        },
        "id": "pL6rDNy0ZelZ",
        "outputId": "f2d0b49b-73d3-4384-d326-f45ee434ba4a"
      },
      "execution_count": 33,
      "outputs": [
        {
          "output_type": "display_data",
          "data": {
            "text/plain": [
              "<Figure size 1000x700 with 1 Axes>"
            ],
            "image/png": "[encoded data removed]"
          },
          "metadata": {}
        }
      ]
    },
    {
      "cell_type": "markdown",
      "source": [
        "### Exercise -- doing it all on my own"
      ],
      "metadata": {
        "id": "Qkbnl41BZ32I"
      }
    },
    {
      "cell_type": "code",
      "source": [
        "import torch\n",
        "from torch import nn\n",
        "import matplotlib.pyplot as plt\n",
        "import numpy as np"
      ],
      "metadata": {
        "id": "jrulJeZJ6L3c"
      },
      "execution_count": 2,
      "outputs": []
    },
    {
      "cell_type": "markdown",
      "source": [
        "### Creating the data"
      ],
      "metadata": {
        "id": "6-gJTwWo6rsq"
      }
    },
    {
      "cell_type": "code",
      "source": [
        "X_data = torch.arange(0,1,0.02)\n",
        "\n",
        "weight = 0.4\n",
        "bias = 0.9\n",
        "\n",
        "y_data = bias + (X_data * weight)\n"
      ],
      "metadata": {
        "id": "MRc58YQZ62-Z"
      },
      "execution_count": 6,
      "outputs": []
    },
    {
      "cell_type": "code",
      "source": [
        "train_split = int((0.8 * len(X_data)))\n",
        "\n",
        "X_train = X_data[:train_split]\n",
        "y_train = y_data[:train_split]\n",
        "\n",
        "X_test = X_data[train_split:]\n",
        "y_test = y_data[train_split:]"
      ],
      "metadata": {
        "id": "N1ugiukw7BEl"
      },
      "execution_count": 10,
      "outputs": []
    },
    {
      "cell_type": "code",
      "source": [
        "def plot_predictions(train_data=X_train,\n",
        "                     train_labels=y_train,\n",
        "                     test_data=X_test,\n",
        "                     test_labels=y_test,\n",
        "                     predictions=None):\n",
        "  plt.scatter(train_data, train_labels, c=\"b\", label=\"Training data\")\n",
        "  plt.scatter(test_data, test_labels, c=\"g\", label=\"Testing data\")\n",
        "\n",
        "  if predictions is not None:\n",
        "    plt.scatter(test_data, predictions, c=\"r\", label=\"predictions\")\n",
        "  plt.legend()\n",
        "  plt.show()\n"
      ],
      "metadata": {
        "id": "qYS6oHJy7b-d"
      },
      "execution_count": 16,
      "outputs": []
    },
    {
      "cell_type": "code",
      "source": [
        "plot_predictions()"
      ],
      "metadata": {
        "colab": {
          "base_uri": "https://localhost:8080/",
          "height": 430
        },
        "id": "7rEjlzxY8dxC",
        "outputId": "4c8bb02b-5f28-47c4-b4b6-8c70da1b3360"
      },
      "execution_count": 17,
      "outputs": [
        {
          "output_type": "display_data",
          "data": {
            "text/plain": [
              "<Figure size 640x480 with 1 Axes>"
            ],
            "image/png": "[encoded data removed]"
          },
          "metadata": {}
        }
      ]
    },
    {
      "cell_type": "markdown",
      "source": [
        "### Creating the linear regression model"
      ],
      "metadata": {
        "id": "mq0NEGkV8fmc"
      }
    },
    {
      "cell_type": "code",
      "source": [
        "class LinearRegression(nn.Module):\n",
        "  def __init__(self):\n",
        "    super().__init__()\n",
        "    self.bias = nn.Parameter(torch.randn(1,\n",
        "                                         requires_grad=True))\n",
        "\n",
        "    self.weight = nn.Parameter(torch.randn(1,\n",
        "                                           requires_grad=True))\n",
        "  def forward(self, x : torch.Tensor) -> torch.Tensor:\n",
        "    return self.weight * x + self.bias"
      ],
      "metadata": {
        "id": "6ZPXRRU78x2y"
      },
      "execution_count": 38,
      "outputs": []
    },
    {
      "cell_type": "code",
      "source": [
        "torch.manual_seed(0)\n",
        "model_self_0 = LinearRegression()\n",
        "model_self_0.state_dict()"
      ],
      "metadata": {
        "colab": {
          "base_uri": "https://localhost:8080/"
        },
        "id": "MUQT3-Nk-Dem",
        "outputId": "99cac7e0-cb7e-4c5c-c41f-f23b3d296e2a"
      },
      "execution_count": 39,
      "outputs": [
        {
          "output_type": "execute_result",
          "data": {
            "text/plain": [
              "OrderedDict([('bias', tensor([1.5410])), ('weight', tensor([-0.2934]))])"
            ]
          },
          "metadata": {},
          "execution_count": 39
        }
      ]
    },
    {
      "cell_type": "markdown",
      "source": [
        "### Creating a loss function and optimiser"
      ],
      "metadata": {
        "id": "7QJDKwz29lrd"
      }
    },
    {
      "cell_type": "code",
      "source": [
        "loss_fn = nn.MSELoss()\n",
        "\n",
        "optimizer = torch.optim.SGD(model_self_0.parameters(), lr=0.01)\n"
      ],
      "metadata": {
        "id": "avbPdlKQ9q12"
      },
      "execution_count": 40,
      "outputs": []
    },
    {
      "cell_type": "markdown",
      "source": [
        "###Writing the training and testing loop"
      ],
      "metadata": {
        "id": "Lqfn1GE5-oLx"
      }
    },
    {
      "cell_type": "code",
      "source": [
        "epochs = 100\n",
        "\n",
        "epoch_count=[]\n",
        "training_loss=[]\n",
        "testing_loss=[]\n",
        "\n",
        "for epoch in range(epochs):\n",
        "  model_self_0.train()\n",
        "\n",
        "  y_predictions = model_self_0(X_train)\n",
        "\n",
        "  loss = loss_fn(y_predictions, y_train)\n",
        "\n",
        "  optimizer.zero_grad()\n",
        "\n",
        "  loss.backward()\n",
        "\n",
        "  optimizer.step()\n",
        "\n",
        "  model_self_0.eval()\n",
        "  with torch.inference_mode():\n",
        "    y_evals = model_self_0(X_test)\n",
        "\n",
        "    loss_evals = loss_fn(y_evals, y_test)\n",
        "\n",
        "  if(epoch%10==0):\n",
        "    epoch_count.append(epoch)\n",
        "    training_loss.append(loss)\n",
        "    testing_loss.append(loss_evals)\n"
      ],
      "metadata": {
        "id": "-9idPclq-r7v"
      },
      "execution_count": 41,
      "outputs": []
    },
    {
      "cell_type": "code",
      "source": [
        "y_predictions"
      ],
      "metadata": {
        "colab": {
          "base_uri": "https://localhost:8080/"
        },
        "id": "BYStDfSw_svK",
        "outputId": "b22223d4-52ce-4e53-e1a0-af2606a95aed"
      },
      "execution_count": 42,
      "outputs": [
        {
          "output_type": "execute_result",
          "data": {
            "text/plain": [
              "tensor([1.2356, 1.2289, 1.2221, 1.2154, 1.2087, 1.2020, 1.1953, 1.1886, 1.1819,\n",
              "        1.1752, 1.1685, 1.1618, 1.1551, 1.1484, 1.1417, 1.1350, 1.1283, 1.1216,\n",
              "        1.1149, 1.1082, 1.1015, 1.0948, 1.0881, 1.0814, 1.0747, 1.0680, 1.0613,\n",
              "        1.0546, 1.0479, 1.0412, 1.0345, 1.0278, 1.0211, 1.0144, 1.0077, 1.0010,\n",
              "        0.9943, 0.9876, 0.9809, 0.9742], grad_fn=<AddBackward0>)"
            ]
          },
          "metadata": {},
          "execution_count": 42
        }
      ]
    },
    {
      "cell_type": "code",
      "source": [
        "model_self_0.state_dict()"
      ],
      "metadata": {
        "colab": {
          "base_uri": "https://localhost:8080/"
        },
        "id": "LNMy2FxA_vAh",
        "outputId": "b9a422db-f687-414b-b808-bb33d59585ae"
      },
      "execution_count": 43,
      "outputs": [
        {
          "output_type": "execute_result",
          "data": {
            "text/plain": [
              "OrderedDict([('bias', tensor([1.2346])), ('weight', tensor([-0.3347]))])"
            ]
          },
          "metadata": {},
          "execution_count": 43
        }
      ]
    },
    {
      "cell_type": "code",
      "source": [
        "weight, bias"
      ],
      "metadata": {
        "colab": {
          "base_uri": "https://localhost:8080/"
        },
        "id": "gU113Pci_zOp",
        "outputId": "19d57534-3fa5-49f6-ee59-c267ace83752"
      },
      "execution_count": 44,
      "outputs": [
        {
          "output_type": "execute_result",
          "data": {
            "text/plain": [
              "(0.4, 0.9)"
            ]
          },
          "metadata": {},
          "execution_count": 44
        }
      ]
    },
    {
      "cell_type": "code",
      "source": [
        "plt.plot(epoch_count, torch.tensor(training_loss), label=\"Training loss\")\n",
        "plt.plot(epoch_count, torch.tensor(testing_loss), label=\"Testing loss\")\n",
        "plt.legend()\n",
        "plt.show()"
      ],
      "metadata": {
        "colab": {
          "base_uri": "https://localhost:8080/",
          "height": 430
        },
        "id": "tl6VFZrGAOnA",
        "outputId": "efdecb7b-0594-4425-bd59-71eea638b452"
      },
      "execution_count": 45,
      "outputs": [
        {
          "output_type": "display_data",
          "data": {
            "text/plain": [
              "<Figure size 640x480 with 1 Axes>"
            ],
            "image/png": "[encoded data removed]"
          },
          "metadata": {}
        }
      ]
    },
    {
      "cell_type": "code",
      "source": [
        "plot_predictions(predictions=y_evals)"
      ],
      "metadata": {
        "colab": {
          "base_uri": "https://localhost:8080/",
          "height": 430
        },
        "id": "Jl7pAUZsAlRu",
        "outputId": "9cac2f24-637d-40dc-e42f-c2cd8a12b218"
      },
      "execution_count": 47,
      "outputs": [
        {
          "output_type": "display_data",
          "data": {
            "text/plain": [
              "<Figure size 640x480 with 1 Axes>"
            ],
            "image/png": "[encoded data removed]"
          },
          "metadata": {}
        }
      ]
    },
    {
      "cell_type": "code",
      "source": [],
      "metadata": {
        "id": "LPIK11egAuYU"
      },
      "execution_count": null,
      "outputs": []
    }
  ]
}