{
  "nbformat": 4,
  "nbformat_minor": 0,
  "metadata": {
    "colab": {
      "provenance": [],
      "gpuType": "T4",
      "authorship_tag": "ABX9TyP0/0zlebWWYfdLDZaO4tLk",
      "include_colab_link": true
    },
    "kernelspec": {
      "name": "python3",
      "display_name": "Python 3"
    },
    "language_info": {
      "name": "python"
    },
    "accelerator": "GPU"
  },
  "cells": [
    {
      "cell_type": "markdown",
      "metadata": {
        "id": "view-in-github",
        "colab_type": "text"
      },
      "source": [
        "<a href=\"https://colab.research.google.com/github/ShriVarshaan/pytorch-learning-log/blob/main/pytorch_workflow_fundamentals.ipynb\" target=\"_parent\"><img src=\"https://colab.research.google.com/assets/colab-badge.svg\" alt=\"Open In Colab\"/></a>"
      ]
    },
    {
      "cell_type": "code",
      "execution_count": null,
      "metadata": {
        "colab": {
          "base_uri": "https://localhost:8080/",
          "height": 36
        },
        "id": "e2YJjdI9MAUj",
        "outputId": "d853e504-971c-42a0-d108-d2e89c6f827a"
      },
      "outputs": [
        {
          "output_type": "execute_result",
          "data": {
            "text/plain": [
              "'2.6.0+cu124'"
            ],
            "application/vnd.google.colaboratory.intrinsic+json": {
              "type": "string"
            }
          },
          "metadata": {},
          "execution_count": 40
        }
      ],
      "source": [
        "import torch\n",
        "import numpy as np\n",
        "from torch import nn #nn contains all of Pytorch's building blocks for neural networks\n",
        "import matplotlib.pyplot as plt\n",
        "\n",
        "torch.__version__"
      ]
    },
    {
      "cell_type": "markdown",
      "source": [
        "##Preparing and loading data\n",
        "\n",
        "* Excel spreadsheets\n",
        "* Images\n",
        "* Video\n",
        "* audio\n",
        "* DNA\n",
        "* Text\n",
        "\n",
        "And many more\n",
        "\n",
        "1) get data into numerical representation\n",
        "\n",
        "2) build a model to learn patterns in that numerical representation"
      ],
      "metadata": {
        "id": "oX6zx5HCNANu"
      }
    },
    {
      "cell_type": "markdown",
      "source": [
        "We will start with making a linear regression formula with know parameters"
      ],
      "metadata": {
        "id": "TZNkclAMNqdX"
      }
    },
    {
      "cell_type": "code",
      "source": [
        "weight = 0.7 #w1\n",
        "bias = 0.3 #w0\n",
        "\n",
        "start = 0\n",
        "end = 1\n",
        "step = 0.02\n",
        "X = torch.arange(start,end,step).unsqueeze(dim=1)\n",
        "y = weight * X + bias\n",
        "\n",
        "X"
      ],
      "metadata": {
        "colab": {
          "base_uri": "https://localhost:8080/"
        },
        "id": "4Pw3f-lgO1Ep",
        "outputId": "119bd445-310f-43de-d09b-b216772b6d15"
      },
      "execution_count": null,
      "outputs": [
        {
          "output_type": "execute_result",
          "data": {
            "text/plain": [
              "tensor([[0.0000],\n",
              "        [0.0200],\n",
              "        [0.0400],\n",
              "        [0.0600],\n",
              "        [0.0800],\n",
              "        [0.1000],\n",
              "        [0.1200],\n",
              "        [0.1400],\n",
              "        [0.1600],\n",
              "        [0.1800],\n",
              "        [0.2000],\n",
              "        [0.2200],\n",
              "        [0.2400],\n",
              "        [0.2600],\n",
              "        [0.2800],\n",
              "        [0.3000],\n",
              "        [0.3200],\n",
              "        [0.3400],\n",
              "        [0.3600],\n",
              "        [0.3800],\n",
              "        [0.4000],\n",
              "        [0.4200],\n",
              "        [0.4400],\n",
              "        [0.4600],\n",
              "        [0.4800],\n",
              "        [0.5000],\n",
              "        [0.5200],\n",
              "        [0.5400],\n",
              "        [0.5600],\n",
              "        [0.5800],\n",
              "        [0.6000],\n",
              "        [0.6200],\n",
              "        [0.6400],\n",
              "        [0.6600],\n",
              "        [0.6800],\n",
              "        [0.7000],\n",
              "        [0.7200],\n",
              "        [0.7400],\n",
              "        [0.7600],\n",
              "        [0.7800],\n",
              "        [0.8000],\n",
              "        [0.8200],\n",
              "        [0.8400],\n",
              "        [0.8600],\n",
              "        [0.8800],\n",
              "        [0.9000],\n",
              "        [0.9200],\n",
              "        [0.9400],\n",
              "        [0.9600],\n",
              "        [0.9800]])"
            ]
          },
          "metadata": {},
          "execution_count": 41
        }
      ]
    },
    {
      "cell_type": "code",
      "source": [
        "len(X), len(y)"
      ],
      "metadata": {
        "colab": {
          "base_uri": "https://localhost:8080/"
        },
        "id": "S59vfxJOPNK_",
        "outputId": "497c11d6-1077-4405-c722-801a1104621a"
      },
      "execution_count": null,
      "outputs": [
        {
          "output_type": "execute_result",
          "data": {
            "text/plain": [
              "(50, 50)"
            ]
          },
          "metadata": {},
          "execution_count": 42
        }
      ]
    },
    {
      "cell_type": "markdown",
      "source": [
        "###Splitting data into training and test sets"
      ],
      "metadata": {
        "id": "reJ80msoPk09"
      }
    },
    {
      "cell_type": "code",
      "source": [
        "train_split = int(0.8 * len(X))\n",
        "X_train = X[:train_split]\n",
        "y_train = y[:train_split]\n",
        "X_test = X[train_split:]\n",
        "y_test = y[train_split:]\n",
        "\n",
        "#not using validation set yet as this is simple\n",
        "len(X_train), len(y_train), len(X_test), len(y_test)"
      ],
      "metadata": {
        "colab": {
          "base_uri": "https://localhost:8080/"
        },
        "id": "hpEn8HSCQLbN",
        "outputId": "712f729c-4efe-44df-fe36-665b468e810b"
      },
      "execution_count": null,
      "outputs": [
        {
          "output_type": "execute_result",
          "data": {
            "text/plain": [
              "(40, 40, 10, 10)"
            ]
          },
          "metadata": {},
          "execution_count": 43
        }
      ]
    },
    {
      "cell_type": "code",
      "source": [
        "X_train, y_train"
      ],
      "metadata": {
        "colab": {
          "base_uri": "https://localhost:8080/"
        },
        "id": "7blQbSyYRTIN",
        "outputId": "3cba12e4-74a1-4397-b1b3-1a2985ac9db0"
      },
      "execution_count": null,
      "outputs": [
        {
          "output_type": "execute_result",
          "data": {
            "text/plain": [
              "(tensor([[0.0000],\n",
              "         [0.0200],\n",
              "         [0.0400],\n",
              "         [0.0600],\n",
              "         [0.0800],\n",
              "         [0.1000],\n",
              "         [0.1200],\n",
              "         [0.1400],\n",
              "         [0.1600],\n",
              "         [0.1800],\n",
              "         [0.2000],\n",
              "         [0.2200],\n",
              "         [0.2400],\n",
              "         [0.2600],\n",
              "         [0.2800],\n",
              "         [0.3000],\n",
              "         [0.3200],\n",
              "         [0.3400],\n",
              "         [0.3600],\n",
              "         [0.3800],\n",
              "         [0.4000],\n",
              "         [0.4200],\n",
              "         [0.4400],\n",
              "         [0.4600],\n",
              "         [0.4800],\n",
              "         [0.5000],\n",
              "         [0.5200],\n",
              "         [0.5400],\n",
              "         [0.5600],\n",
              "         [0.5800],\n",
              "         [0.6000],\n",
              "         [0.6200],\n",
              "         [0.6400],\n",
              "         [0.6600],\n",
              "         [0.6800],\n",
              "         [0.7000],\n",
              "         [0.7200],\n",
              "         [0.7400],\n",
              "         [0.7600],\n",
              "         [0.7800]]),\n",
              " tensor([[0.3000],\n",
              "         [0.3140],\n",
              "         [0.3280],\n",
              "         [0.3420],\n",
              "         [0.3560],\n",
              "         [0.3700],\n",
              "         [0.3840],\n",
              "         [0.3980],\n",
              "         [0.4120],\n",
              "         [0.4260],\n",
              "         [0.4400],\n",
              "         [0.4540],\n",
              "         [0.4680],\n",
              "         [0.4820],\n",
              "         [0.4960],\n",
              "         [0.5100],\n",
              "         [0.5240],\n",
              "         [0.5380],\n",
              "         [0.5520],\n",
              "         [0.5660],\n",
              "         [0.5800],\n",
              "         [0.5940],\n",
              "         [0.6080],\n",
              "         [0.6220],\n",
              "         [0.6360],\n",
              "         [0.6500],\n",
              "         [0.6640],\n",
              "         [0.6780],\n",
              "         [0.6920],\n",
              "         [0.7060],\n",
              "         [0.7200],\n",
              "         [0.7340],\n",
              "         [0.7480],\n",
              "         [0.7620],\n",
              "         [0.7760],\n",
              "         [0.7900],\n",
              "         [0.8040],\n",
              "         [0.8180],\n",
              "         [0.8320],\n",
              "         [0.8460]]))"
            ]
          },
          "metadata": {},
          "execution_count": 44
        }
      ]
    },
    {
      "cell_type": "markdown",
      "source": [
        "Visualising our data\n",
        "\n",
        "Data explorer's motto - \"visualise, visualise, visualise\""
      ],
      "metadata": {
        "id": "2ZaSyLXXSLfp"
      }
    },
    {
      "cell_type": "code",
      "source": [
        "#plots training data, test data and compares predictions\n",
        "def plot_predictions(train_data=X_train,\n",
        "                     train_labels=y_train,\n",
        "                     test_data=X_test,\n",
        "                     test_labels=y_test,\n",
        "                     predictions=None):\n",
        "  plt.figure(figsize=(10,7))\n",
        "\n",
        "  #Plotting training data in blue\n",
        "  plt.scatter(train_data, train_labels, c=\"b\", s=4, label=\"Training Data\")\n",
        "\n",
        "  #Plotting test data in green\n",
        "  plt.scatter(test_data, test_labels, c=\"g\", s=4, label=\"Testing Data\")\n",
        "\n",
        "  #if there are predictions we will plot them\n",
        "  if predictions is not None:\n",
        "    plt.scatter(test_data, predictions, c=\"r\", s=4, label=\"Predictions\")\n",
        "\n",
        "  #showing the legend\n",
        "  plt.legend(prop={\"size\":15})\n"
      ],
      "metadata": {
        "id": "y_GZnyreS-D9"
      },
      "execution_count": null,
      "outputs": []
    },
    {
      "cell_type": "code",
      "source": [
        "plot_predictions()"
      ],
      "metadata": {
        "colab": {
          "base_uri": "https://localhost:8080/",
          "height": 471
        },
        "id": "gNJ2meBvTzZm",
        "outputId": "fc05638f-c462-4edd-f09f-6561b197d8db"
      },
      "execution_count": null,
      "outputs": [
        {
          "output_type": "display_data",
          "data": {
            "text/plain": [
              "<Figure size 1000x700 with 1 Axes>"
            ],
            "image/png": "[encoded data removed]"
          },
          "metadata": {}
        }
      ]
    },
    {
      "cell_type": "markdown",
      "source": [
        "##Building pytorch model\n",
        "\n",
        "We will be building a linear regression model\n",
        "\n",
        "our model starts with random values and adjusts these values to get ideal values\n",
        "\n",
        "We can do this in two ways\n",
        "\n",
        "1) gradient descent\n",
        "\n",
        "2) back propogation"
      ],
      "metadata": {
        "id": "g_sKDYXjoAvd"
      }
    },
    {
      "cell_type": "code",
      "source": [
        "class LinearRegressionModel(nn.Module):\n",
        "  def __init__(self):\n",
        "    super().__init__()\n",
        "    self.weights = nn.Parameter(torch.randn(1,\n",
        "                                           requires_grad = True,\n",
        "                                           dtype=torch.float)) #We have requires grad to True for gradient descent, pytorch will keep track of the gradients of the weights parameter and update them through gradient descent and back propogration\n",
        "    self.bias = nn.Parameter(torch.randn(1,\n",
        "                                        requires_grad = True, #This parameter can be updated via gradient descent\n",
        "                                        dtype=torch.float))\n",
        "\n",
        "    #any subclass of nn.Module requires a forward method\n",
        "    #forward defines the computation performed by the model, in this case it is linear regression\n",
        "  def forward(self, x: torch.Tensor) -> torch.Tensor:\n",
        "    return self.weights * x + self.bias #This is the linear regression formula"
      ],
      "metadata": {
        "id": "FK4P5W5noj5t"
      },
      "execution_count": null,
      "outputs": []
    },
    {
      "cell_type": "markdown",
      "source": [
        "###Pytorch model building essentials\n",
        "\n",
        "* torch.nn -- contains all of the building blocks for computational graphs (a neural network can be considered a computational graph)\n",
        "\n",
        "* torch.nn.Parameter -- the parameters our model needs to try and learn\n",
        "\n",
        "* torch.nn.Module -- The base class for all neural network modules, if we subclass it we must override forward()\n",
        "\n",
        "* torch.optim - this is where the optimizers are, helps with gradient descent\n",
        "\n",
        "* def forward() -- All nn.Module subclasses require us to overwrite forward. This method defines what happens in the forward computation"
      ],
      "metadata": {
        "id": "svGwJLw7qE5B"
      }
    },
    {
      "cell_type": "code",
      "source": [
        "#We will make a random seed as our model uses .randn\n",
        "torch.manual_seed(42)\n",
        "\n",
        "#Instance of the model that we have made\n",
        "model_0 = LinearRegressionModel()\n",
        "list(model_0.parameters())"
      ],
      "metadata": {
        "colab": {
          "base_uri": "https://localhost:8080/"
        },
        "id": "AoYQyVl--cd3",
        "outputId": "f8bfe69a-2b0d-46b8-8e4c-a7000878832d"
      },
      "execution_count": null,
      "outputs": [
        {
          "output_type": "execute_result",
          "data": {
            "text/plain": [
              "[Parameter containing:\n",
              " tensor([0.3367], requires_grad=True),\n",
              " Parameter containing:\n",
              " tensor([0.1288], requires_grad=True)]"
            ]
          },
          "metadata": {},
          "execution_count": 48
        }
      ]
    },
    {
      "cell_type": "code",
      "source": [
        "model_0.state_dict() #gives a dictionary which is easier to read than our list"
      ],
      "metadata": {
        "colab": {
          "base_uri": "https://localhost:8080/"
        },
        "id": "owCuKyvNBHri",
        "outputId": "1c8cc6b8-e054-410b-b811-2892cc556c37"
      },
      "execution_count": null,
      "outputs": [
        {
          "output_type": "execute_result",
          "data": {
            "text/plain": [
              "OrderedDict([('weights', tensor([0.3367])), ('bias', tensor([0.1288]))])"
            ]
          },
          "metadata": {},
          "execution_count": 49
        }
      ]
    },
    {
      "cell_type": "markdown",
      "source": [
        "###making predictions using torch.inference_mode()\n",
        "\n",
        "To check our model's power we will see how well it predicts y_test based on X_test\n",
        "\n",
        "We are doing this as of now without optimising our model's weight and bias\n",
        "\n",
        "When we pass data through our model, it'll run through the forward() method"
      ],
      "metadata": {
        "id": "g-yEcCjmBa2s"
      }
    },
    {
      "cell_type": "code",
      "source": [
        "X_test"
      ],
      "metadata": {
        "colab": {
          "base_uri": "https://localhost:8080/"
        },
        "id": "0qicTR0nC77j",
        "outputId": "0e499e66-8747-4262-a8a7-b53162f860e2"
      },
      "execution_count": null,
      "outputs": [
        {
          "output_type": "execute_result",
          "data": {
            "text/plain": [
              "tensor([[0.8000],\n",
              "        [0.8200],\n",
              "        [0.8400],\n",
              "        [0.8600],\n",
              "        [0.8800],\n",
              "        [0.9000],\n",
              "        [0.9200],\n",
              "        [0.9400],\n",
              "        [0.9600],\n",
              "        [0.9800]])"
            ]
          },
          "metadata": {},
          "execution_count": 50
        }
      ]
    },
    {
      "cell_type": "code",
      "source": [
        "#this is a context manager, can be done directly without it but put this in\n",
        "# It basically turns off gradient tracking which makes it faster as pytorch has to keep track of a lesser amount of data\n",
        "#can use torch.no_grad() as well but inference_mode() is better and newer\n",
        "with torch.inference_mode():\n",
        "  y_preds = model_0(X_test)\n",
        "\n",
        "y_preds"
      ],
      "metadata": {
        "colab": {
          "base_uri": "https://localhost:8080/"
        },
        "id": "JLQEPKR3CnYK",
        "outputId": "f269d210-48a2-4739-f2f3-026beec1e6e9"
      },
      "execution_count": null,
      "outputs": [
        {
          "output_type": "execute_result",
          "data": {
            "text/plain": [
              "tensor([[0.3982],\n",
              "        [0.4049],\n",
              "        [0.4116],\n",
              "        [0.4184],\n",
              "        [0.4251],\n",
              "        [0.4318],\n",
              "        [0.4386],\n",
              "        [0.4453],\n",
              "        [0.4520],\n",
              "        [0.4588]])"
            ]
          },
          "metadata": {},
          "execution_count": 51
        }
      ]
    },
    {
      "cell_type": "code",
      "source": [
        "plot_predictions(predictions=y_preds) #The predictions are far off as we haven't trained our model yet, we have just run it using the random initial values"
      ],
      "metadata": {
        "colab": {
          "base_uri": "https://localhost:8080/",
          "height": 471
        },
        "id": "NmHU_9qvC_Ya",
        "outputId": "97845adf-8280-4218-fdc8-202f4472b35c"
      },
      "execution_count": null,
      "outputs": [
        {
          "output_type": "display_data",
          "data": {
            "text/plain": [
              "<Figure size 1000x700 with 1 Axes>"
            ],
            "image/png": "[encoded data removed]"
          },
          "metadata": {}
        }
      ]
    },
    {
      "cell_type": "markdown",
      "source": [
        "###Training our model\n",
        "\n",
        "We need a loss function\n",
        "\n",
        "We need an optimizer, which takes into account the loss of a model and adjusts our parameters"
      ],
      "metadata": {
        "id": "n7qPFu3ODmER"
      }
    },
    {
      "cell_type": "code",
      "source": [
        "model_0.state_dict()"
      ],
      "metadata": {
        "colab": {
          "base_uri": "https://localhost:8080/"
        },
        "id": "uoumoHTVFW5L",
        "outputId": "467c4f34-3963-4379-af5a-6e61abf233f0"
      },
      "execution_count": null,
      "outputs": [
        {
          "output_type": "execute_result",
          "data": {
            "text/plain": [
              "OrderedDict([('weights', tensor([0.3367])), ('bias', tensor([0.1288]))])"
            ]
          },
          "metadata": {},
          "execution_count": 53
        }
      ]
    },
    {
      "cell_type": "code",
      "source": [
        "#Setting up a loss function\n",
        "loss_fn = nn.L1Loss()\n",
        "\n",
        "#Setting up an optimizer\n",
        "#stochastic gradient descent\n",
        "#lr is the learning rate\n",
        "optimizer = torch.optim.SGD(params=model_0.parameters(),\n",
        "                            lr=0.01)"
      ],
      "metadata": {
        "id": "o5G6dit5GWeB"
      },
      "execution_count": null,
      "outputs": []
    },
    {
      "cell_type": "markdown",
      "source": [
        "###Building a training and testing loop\n",
        "\n",
        "Things we need in a training loop:\n",
        "\n",
        "0) Loop through the data\n",
        "\n",
        "1) Forward pass (this involves the data moving through our forward method) -- also called forward propagation\n",
        "\n",
        "2) Calculate the loss\n",
        "\n",
        "3) Optimizer zero grad\n",
        "\n",
        "4) Loss backward - move backwards through the network to calculate the gradients of each of the parameters of our model with respect to the loss (back propagation)\n",
        "\n",
        "5) Optimizer step - Use the optimizer to adjust our model's parameters to improve the loss (gradient descent)"
      ],
      "metadata": {
        "id": "YxJdQj6vJwBM"
      }
    },
    {
      "cell_type": "code",
      "source": [
        "#An epoch is one loop through the data (This is a hyperparameter as we have set is ourselves, so is the learning rate)\n",
        "torch.manual_seed(42)\n",
        "epochs = 200\n",
        "\n",
        "#Keeping track of different values so we can compare future experiments to past experiments\n",
        "epoch_count = []\n",
        "loss_values = []\n",
        "test_loss_values = []\n",
        "\n",
        "#Loop through the data\n",
        "for epoch in range(epochs):\n",
        "  #Set the model to training mode\n",
        "  model_0.train() #train mode in pytorch sets all parameters that require gradients to require gradients\n",
        "\n",
        "  #1 forward pass, basically calculating f\n",
        "  y_pred = model_0(X_train) # we will be comparing this with the y_test to minimise loss\n",
        "\n",
        "  #2 calculating the loss using the loss function we set up\n",
        "  #The order is predictions first then the actual labels, check the documentation just to be safe, in this case it is MAE so the order doesn't matter but it might matter in some cases\n",
        "  loss = loss_fn(y_pred, y_train)\n",
        "\n",
        "  #3 Optimiser zero grad\n",
        "  optimizer.zero_grad()\n",
        "\n",
        "  #4 Perform backpropogation on the loss with respect to the parameters of the model\n",
        "  loss.backward()\n",
        "\n",
        "  #5 Step the optimizer (perform gradient desecnt), updates our parameters\n",
        "  optimizer.step() #by deafult how the optimizer changes will accumulate through the loop, so we are zeroing it in step 3\n",
        "\n",
        "\n",
        "  ###Testing code\n",
        "  model_0.eval() #turns off settings in the model not needed for evaluation and testing\n",
        "  with torch.inference_mode(): #this turns off gradient tracking\n",
        "    #1 Do the forward pass\n",
        "    y_preds_eval = model_0(X_test)\n",
        "\n",
        "    #2 Calculate the loss\n",
        "    test_loss = loss_fn(y_preds_eval, y_test)\n",
        "\n",
        "  if(epoch % 10 == 0):\n",
        "    epoch_count.append(epoch)\n",
        "    loss_values.append(loss)\n",
        "    test_loss_values.append(test_loss)\n"
      ],
      "metadata": {
        "id": "jolcurAKKYwq"
      },
      "execution_count": null,
      "outputs": []
    },
    {
      "cell_type": "code",
      "source": [
        "with torch.inference_mode():\n",
        "  y_preds_new = model_0(X_test)\n",
        "y_preds_new"
      ],
      "metadata": {
        "colab": {
          "base_uri": "https://localhost:8080/"
        },
        "id": "Csy-xlLh2MJh",
        "outputId": "b428949a-94c0-4b2f-f63e-6ed63d1e178d"
      },
      "execution_count": null,
      "outputs": [
        {
          "output_type": "execute_result",
          "data": {
            "text/plain": [
              "tensor([[0.8685],\n",
              "        [0.8825],\n",
              "        [0.8965],\n",
              "        [0.9105],\n",
              "        [0.9245],\n",
              "        [0.9384],\n",
              "        [0.9524],\n",
              "        [0.9664],\n",
              "        [0.9804],\n",
              "        [0.9944]])"
            ]
          },
          "metadata": {},
          "execution_count": 56
        }
      ]
    },
    {
      "cell_type": "code",
      "source": [
        "plot_predictions(predictions=y_preds_new)"
      ],
      "metadata": {
        "colab": {
          "base_uri": "https://localhost:8080/",
          "height": 471
        },
        "id": "woyCs4DV2qUu",
        "outputId": "7e9b2e68-75e6-43c7-83d9-c9f8fe0e3e28"
      },
      "execution_count": null,
      "outputs": [
        {
          "output_type": "display_data",
          "data": {
            "text/plain": [
              "<Figure size 1000x700 with 1 Axes>"
            ],
            "image/png": "[encoded data removed]"
          },
          "metadata": {}
        }
      ]
    },
    {
      "cell_type": "code",
      "source": [
        "torch.tensor(loss_values), loss_values"
      ],
      "metadata": {
        "colab": {
          "base_uri": "https://localhost:8080/"
        },
        "id": "e7oom01u2uxf",
        "outputId": "b819bf0b-8a90-4526-ddd1-292bab9d5272"
      },
      "execution_count": null,
      "outputs": [
        {
          "output_type": "execute_result",
          "data": {
            "text/plain": [
              "(tensor([0.3129, 0.1977, 0.0891, 0.0531, 0.0454, 0.0417, 0.0382, 0.0348, 0.0313,\n",
              "         0.0279, 0.0245, 0.0210, 0.0176, 0.0142, 0.0107, 0.0073, 0.0039, 0.0089,\n",
              "         0.0089, 0.0089]),\n",
              " [tensor(0.3129, grad_fn=<MeanBackward0>),\n",
              "  tensor(0.1977, grad_fn=<MeanBackward0>),\n",
              "  tensor(0.0891, grad_fn=<MeanBackward0>),\n",
              "  tensor(0.0531, grad_fn=<MeanBackward0>),\n",
              "  tensor(0.0454, grad_fn=<MeanBackward0>),\n",
              "  tensor(0.0417, grad_fn=<MeanBackward0>),\n",
              "  tensor(0.0382, grad_fn=<MeanBackward0>),\n",
              "  tensor(0.0348, grad_fn=<MeanBackward0>),\n",
              "  tensor(0.0313, grad_fn=<MeanBackward0>),\n",
              "  tensor(0.0279, grad_fn=<MeanBackward0>),\n",
              "  tensor(0.0245, grad_fn=<MeanBackward0>),\n",
              "  tensor(0.0210, grad_fn=<MeanBackward0>),\n",
              "  tensor(0.0176, grad_fn=<MeanBackward0>),\n",
              "  tensor(0.0142, grad_fn=<MeanBackward0>),\n",
              "  tensor(0.0107, grad_fn=<MeanBackward0>),\n",
              "  tensor(0.0073, grad_fn=<MeanBackward0>),\n",
              "  tensor(0.0039, grad_fn=<MeanBackward0>),\n",
              "  tensor(0.0089, grad_fn=<MeanBackward0>),\n",
              "  tensor(0.0089, grad_fn=<MeanBackward0>),\n",
              "  tensor(0.0089, grad_fn=<MeanBackward0>)])"
            ]
          },
          "metadata": {},
          "execution_count": 60
        }
      ]
    },
    {
      "cell_type": "code",
      "source": [
        "plt.plot(epoch_count, torch.tensor(loss_values), label=\"Train Loss\")\n",
        "plt.plot(epoch_count, torch.tensor(test_loss_values), label=\"Test loss\")\n",
        "plt.title(\"Training and test loss curve\")\n",
        "plt.ylabel(\"Loss\")\n",
        "plt.xlabel(\"Epochs\")\n",
        "plt.show()"
      ],
      "metadata": {
        "colab": {
          "base_uri": "https://localhost:8080/",
          "height": 472
        },
        "id": "1CJFlYYganOy",
        "outputId": "66b1e5b2-1ccf-4f6c-e56c-2c4f611e8da9"
      },
      "execution_count": null,
      "outputs": [
        {
          "output_type": "display_data",
          "data": {
            "text/plain": [
              "<Figure size 640x480 with 1 Axes>"
            ],
            "image/png": "[encoded data removed]"
          },
          "metadata": {}
        }
      ]
    },
    {
      "cell_type": "code",
      "source": [],
      "metadata": {
        "id": "_LiBIIrBcECl"
      },
      "execution_count": null,
      "outputs": []
    }
  ]
}