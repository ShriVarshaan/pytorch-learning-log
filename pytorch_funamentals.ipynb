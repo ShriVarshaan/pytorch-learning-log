{
  "nbformat": 4,
  "nbformat_minor": 0,
  "metadata": {
    "colab": {
      "provenance": [],
      "authorship_tag": "ABX9TyM5YgI48BMU8GkYaWotyRpm",
      "include_colab_link": true
    },
    "kernelspec": {
      "name": "python3",
      "display_name": "Python 3"
    },
    "language_info": {
      "name": "python"
    }
  },
  "cells": [
    {
      "cell_type": "markdown",
      "metadata": {
        "id": "view-in-github",
        "colab_type": "text"
      },
      "source": [
        "<a href=\"https://colab.research.google.com/github/ShriVarshaan/pytorch-learning-log/blob/main/pytorch_funamentals.ipynb\" target=\"_parent\"><img src=\"https://colab.research.google.com/assets/colab-badge.svg\" alt=\"Open In Colab\"/></a>"
      ]
    },
    {
      "cell_type": "markdown",
      "source": [
        "###00 Pytorch fundamentals\n",
        "\n",
        "Resource: https://www.learnpytorch.io/00_pytorch_fundamentals/"
      ],
      "metadata": {
        "id": "S7dRPGUn06xT"
      }
    },
    {
      "cell_type": "code",
      "execution_count": null,
      "metadata": {
        "id": "vygd8O_Sz0do"
      },
      "outputs": [],
      "source": [
        "!pip install torch"
      ]
    },
    {
      "cell_type": "code",
      "source": [
        "import torch\n",
        "import pandas as pd\n",
        "import numpy as np\n",
        "import matplotlib.pyplot as plt"
      ],
      "metadata": {
        "id": "6ZKUvqrv0VN8"
      },
      "execution_count": 1,
      "outputs": []
    },
    {
      "cell_type": "code",
      "source": [
        "print(torch.__version__)"
      ],
      "metadata": {
        "colab": {
          "base_uri": "https://localhost:8080/"
        },
        "id": "3G4kVz7g0iP6",
        "outputId": "ae4cbdbe-3d90-42f9-f8f1-c28f8f3a06a9"
      },
      "execution_count": null,
      "outputs": [
        {
          "output_type": "stream",
          "name": "stdout",
          "text": [
            "2.6.0+cu124\n"
          ]
        }
      ]
    },
    {
      "cell_type": "markdown",
      "source": [
        "Creating a scalar tensor\n",
        "\n",
        "created using torch.tensor\n",
        "\n"
      ],
      "metadata": {
        "id": "LaeqFMPk2Ytj"
      }
    },
    {
      "cell_type": "code",
      "source": [
        "scalar = torch.tensor(7)\n",
        "scalar"
      ],
      "metadata": {
        "colab": {
          "base_uri": "https://localhost:8080/"
        },
        "id": "cXeHwquU2cCY",
        "outputId": "e6876d8c-7ccf-4a59-b671-64bb0de3ffdf"
      },
      "execution_count": null,
      "outputs": [
        {
          "output_type": "execute_result",
          "data": {
            "text/plain": [
              "tensor(7)"
            ]
          },
          "metadata": {},
          "execution_count": 8
        }
      ]
    },
    {
      "cell_type": "code",
      "source": [
        "scalar.ndim\n",
        "# the scalar has no dimensions, ndim gives us the numer of dimensions, also called the rank"
      ],
      "metadata": {
        "colab": {
          "base_uri": "https://localhost:8080/"
        },
        "id": "W8ZWnI9-3JTx",
        "outputId": "1f6442a2-e276-4723-b144-a0b8371fc618"
      },
      "execution_count": null,
      "outputs": [
        {
          "output_type": "execute_result",
          "data": {
            "text/plain": [
              "0"
            ]
          },
          "metadata": {},
          "execution_count": 9
        }
      ]
    },
    {
      "cell_type": "code",
      "source": [
        "# getting tensor back as Python int\n",
        "scalar.item()"
      ],
      "metadata": {
        "colab": {
          "base_uri": "https://localhost:8080/"
        },
        "id": "7zi0JdV43bgt",
        "outputId": "d996af20-7828-47e3-a002-9c02944960d9"
      },
      "execution_count": null,
      "outputs": [
        {
          "output_type": "execute_result",
          "data": {
            "text/plain": [
              "7"
            ]
          },
          "metadata": {},
          "execution_count": 10
        }
      ]
    },
    {
      "cell_type": "code",
      "source": [
        "#Vectors\n",
        "\n",
        "vector = torch.tensor([7,7, 8])\n",
        "vector"
      ],
      "metadata": {
        "colab": {
          "base_uri": "https://localhost:8080/"
        },
        "id": "UoNGLqOV3uYL",
        "outputId": "1dcb86c3-3fcb-4133-b392-1f9db0db522c"
      },
      "execution_count": null,
      "outputs": [
        {
          "output_type": "execute_result",
          "data": {
            "text/plain": [
              "tensor([7, 7, 8])"
            ]
          },
          "metadata": {},
          "execution_count": 14
        }
      ]
    },
    {
      "cell_type": "code",
      "source": [
        "vector.ndim\n",
        "#Think of the number of dimensions as the number of square bracket pairs"
      ],
      "metadata": {
        "colab": {
          "base_uri": "https://localhost:8080/"
        },
        "id": "oIOUb8xj37Rh",
        "outputId": "83e6d880-5f87-471e-d634-4cd8d8415dd7"
      },
      "execution_count": null,
      "outputs": [
        {
          "output_type": "execute_result",
          "data": {
            "text/plain": [
              "1"
            ]
          },
          "metadata": {},
          "execution_count": 16
        }
      ]
    },
    {
      "cell_type": "code",
      "source": [
        "vector.shape"
      ],
      "metadata": {
        "colab": {
          "base_uri": "https://localhost:8080/"
        },
        "id": "Hw4Td9Ui3_yh",
        "outputId": "ea1fdfed-7c1a-4073-c04a-01227ecc13ba"
      },
      "execution_count": null,
      "outputs": [
        {
          "output_type": "execute_result",
          "data": {
            "text/plain": [
              "torch.Size([3])"
            ]
          },
          "metadata": {},
          "execution_count": 20
        }
      ]
    },
    {
      "cell_type": "code",
      "source": [
        "#matrix\n",
        "\n",
        "MATRIX = torch.tensor([[7,8],\n",
        "                       [9,10]])\n",
        "MATRIX"
      ],
      "metadata": {
        "colab": {
          "base_uri": "https://localhost:8080/"
        },
        "id": "NhKOi_NM4SQF",
        "outputId": "ae86dbb3-bc9b-40cc-ae45-91f5c938e66e"
      },
      "execution_count": null,
      "outputs": [
        {
          "output_type": "execute_result",
          "data": {
            "text/plain": [
              "tensor([[ 7,  8],\n",
              "        [ 9, 10]])"
            ]
          },
          "metadata": {},
          "execution_count": 21
        }
      ]
    },
    {
      "cell_type": "code",
      "source": [
        "MATRIX.ndim"
      ],
      "metadata": {
        "colab": {
          "base_uri": "https://localhost:8080/"
        },
        "id": "kmBPJXy641RF",
        "outputId": "25eab95d-e5fe-485d-9221-e168362408d2"
      },
      "execution_count": null,
      "outputs": [
        {
          "output_type": "execute_result",
          "data": {
            "text/plain": [
              "2"
            ]
          },
          "metadata": {},
          "execution_count": 22
        }
      ]
    },
    {
      "cell_type": "code",
      "source": [
        "MATRIX[0]"
      ],
      "metadata": {
        "colab": {
          "base_uri": "https://localhost:8080/"
        },
        "id": "aWtDh3fv43Lp",
        "outputId": "1cc481be-2c12-4ee5-872d-754380bdbb79"
      },
      "execution_count": null,
      "outputs": [
        {
          "output_type": "execute_result",
          "data": {
            "text/plain": [
              "tensor([7, 8])"
            ]
          },
          "metadata": {},
          "execution_count": 23
        }
      ]
    },
    {
      "cell_type": "code",
      "source": [
        "MATRIX.shape"
      ],
      "metadata": {
        "colab": {
          "base_uri": "https://localhost:8080/"
        },
        "id": "QDY03oIa44iP",
        "outputId": "97bb4220-8afc-40f5-8934-621888a9d247"
      },
      "execution_count": null,
      "outputs": [
        {
          "output_type": "execute_result",
          "data": {
            "text/plain": [
              "torch.Size([2, 2])"
            ]
          },
          "metadata": {},
          "execution_count": 24
        }
      ]
    },
    {
      "cell_type": "code",
      "source": [
        "#tensor\n",
        "\n",
        "TENSOR = torch.tensor([[[1,2,3],\n",
        "                        [3,6,9],\n",
        "                        [2,5,6]]])\n",
        "TENSOR"
      ],
      "metadata": {
        "colab": {
          "base_uri": "https://localhost:8080/"
        },
        "id": "qc1XQGs74-Zk",
        "outputId": "d03d2b63-93a8-4d7b-b5d6-394b6f03c475"
      },
      "execution_count": null,
      "outputs": [
        {
          "output_type": "execute_result",
          "data": {
            "text/plain": [
              "tensor([[[1, 2, 3],\n",
              "         [3, 6, 9],\n",
              "         [2, 5, 6]]])"
            ]
          },
          "metadata": {},
          "execution_count": 26
        }
      ]
    },
    {
      "cell_type": "code",
      "source": [
        "TENSOR.ndim"
      ],
      "metadata": {
        "colab": {
          "base_uri": "https://localhost:8080/"
        },
        "id": "xWAM56lD5pJa",
        "outputId": "ba01c585-fbc7-47c6-fb5f-883bd4ed1285"
      },
      "execution_count": null,
      "outputs": [
        {
          "output_type": "execute_result",
          "data": {
            "text/plain": [
              "3"
            ]
          },
          "metadata": {},
          "execution_count": 29
        }
      ]
    },
    {
      "cell_type": "code",
      "source": [
        "TENSOR.shape"
      ],
      "metadata": {
        "colab": {
          "base_uri": "https://localhost:8080/"
        },
        "id": "u6imO_Ds6IvZ",
        "outputId": "6fbc9555-6a70-4245-ffd2-a0aee5f1cb31"
      },
      "execution_count": null,
      "outputs": [
        {
          "output_type": "execute_result",
          "data": {
            "text/plain": [
              "torch.Size([1, 3, 3])"
            ]
          },
          "metadata": {},
          "execution_count": 30
        }
      ]
    },
    {
      "cell_type": "markdown",
      "source": [
        "Scalars and vectors are denoted with lowercase letters while tensors and matrices are denoted using uppercase letters.\n",
        "\n",
        "Scalar has 0 dimensions\n",
        "Vector has 1 dimension\n",
        "Matrix has 2\n",
        "\n",
        "tensor can be any number of dimensions, 0 dimension tensor is a scalar, 2 is a vector......"
      ],
      "metadata": {
        "id": "Fx1Ke4hy5WOr"
      }
    },
    {
      "cell_type": "code",
      "source": [
        "TENSOR[0]"
      ],
      "metadata": {
        "colab": {
          "base_uri": "https://localhost:8080/"
        },
        "id": "cOiAk5Oc6KcZ",
        "outputId": "a6e3ac72-1e5a-4e88-8699-fdaf1a77e197"
      },
      "execution_count": null,
      "outputs": [
        {
          "output_type": "execute_result",
          "data": {
            "text/plain": [
              "tensor([[1, 2, 3],\n",
              "        [3, 6, 9],\n",
              "        [2, 5, 6]])"
            ]
          },
          "metadata": {},
          "execution_count": 31
        }
      ]
    },
    {
      "cell_type": "code",
      "source": [
        "TENSOR[0][1]"
      ],
      "metadata": {
        "colab": {
          "base_uri": "https://localhost:8080/"
        },
        "id": "2DML6YM86pWK",
        "outputId": "2f38240c-6d63-44e2-92d5-41ee67fb47d5"
      },
      "execution_count": null,
      "outputs": [
        {
          "output_type": "execute_result",
          "data": {
            "text/plain": [
              "tensor([3, 6, 9])"
            ]
          },
          "metadata": {},
          "execution_count": 33
        }
      ]
    },
    {
      "cell_type": "markdown",
      "source": [
        "###Creating Random tensors\n",
        "\n",
        "We use random tensors as neural networks start off with tensors full of random numbers, then they look at the data and update the tensors to better fit the data"
      ],
      "metadata": {
        "id": "kMlZKvBG6rPQ"
      }
    },
    {
      "cell_type": "code",
      "source": [
        "#creating a random tensor\n",
        "random_tensor = torch.rand(3,4)\n",
        "random_tensor"
      ],
      "metadata": {
        "colab": {
          "base_uri": "https://localhost:8080/"
        },
        "id": "SLMZku-p8mnK",
        "outputId": "2878407a-af87-4ad4-d36a-4ae3fd501755"
      },
      "execution_count": null,
      "outputs": [
        {
          "output_type": "execute_result",
          "data": {
            "text/plain": [
              "tensor([[0.3503, 0.8837, 0.3394, 0.8252],\n",
              "        [0.3827, 0.8710, 0.9756, 0.9651],\n",
              "        [0.9648, 0.9035, 0.6790, 0.5483]])"
            ]
          },
          "metadata": {},
          "execution_count": 51
        }
      ]
    },
    {
      "cell_type": "code",
      "source": [
        "random_tensor.ndim"
      ],
      "metadata": {
        "colab": {
          "base_uri": "https://localhost:8080/"
        },
        "id": "IZ7LbCmA8tg_",
        "outputId": "23825275-2370-4504-946d-ca3065de9f0a"
      },
      "execution_count": null,
      "outputs": [
        {
          "output_type": "execute_result",
          "data": {
            "text/plain": [
              "2"
            ]
          },
          "metadata": {},
          "execution_count": 52
        }
      ]
    },
    {
      "cell_type": "code",
      "source": [
        "random_tensor.shape"
      ],
      "metadata": {
        "colab": {
          "base_uri": "https://localhost:8080/"
        },
        "id": "oUp0SCLc9Cey",
        "outputId": "c562f5fc-ffef-466d-f8bc-2c3705664b6d"
      },
      "execution_count": null,
      "outputs": [
        {
          "output_type": "execute_result",
          "data": {
            "text/plain": [
              "torch.Size([3, 4])"
            ]
          },
          "metadata": {},
          "execution_count": 53
        }
      ]
    },
    {
      "cell_type": "code",
      "source": [
        "#creating a random tensor with a similar shape as an image tensor\n",
        "\n",
        "#size is an optional named arg just torch.rand(224,224,3) will give the same output\n",
        "#We use it to make it clearer or when we are passing a variable into tensor.rand\n",
        "random_tensor_image = torch.rand(size=(224,224,3)) # height, width, colour channels[r,g,b]\n",
        "random_tensor_image.shape, random_tensor_image.ndim"
      ],
      "metadata": {
        "colab": {
          "base_uri": "https://localhost:8080/"
        },
        "id": "fvjwLdmM9QP3",
        "outputId": "743a6166-036b-4496-a202-1a985b41f3ef"
      },
      "execution_count": null,
      "outputs": [
        {
          "output_type": "execute_result",
          "data": {
            "text/plain": [
              "(torch.Size([224, 224, 3]), 3)"
            ]
          },
          "metadata": {},
          "execution_count": 54
        }
      ]
    },
    {
      "cell_type": "markdown",
      "source": [
        "###Zeroes and ones tensors"
      ],
      "metadata": {
        "id": "V_5QvuN1-2Ii"
      }
    },
    {
      "cell_type": "code",
      "source": [
        "#creating a tensor of all zeroes\n",
        "zeroes = torch.zeros(3,4) #used to make a mask\n",
        "zeroes"
      ],
      "metadata": {
        "colab": {
          "base_uri": "https://localhost:8080/"
        },
        "id": "mtukS6QB_a2Y",
        "outputId": "e1bb0445-64af-4927-db3a-4980dd63a5b4"
      },
      "execution_count": null,
      "outputs": [
        {
          "output_type": "execute_result",
          "data": {
            "text/plain": [
              "tensor([[0., 0., 0., 0.],\n",
              "        [0., 0., 0., 0.],\n",
              "        [0., 0., 0., 0.]])"
            ]
          },
          "metadata": {},
          "execution_count": 55
        }
      ]
    },
    {
      "cell_type": "code",
      "source": [
        "zeroes * random_tensor"
      ],
      "metadata": {
        "colab": {
          "base_uri": "https://localhost:8080/"
        },
        "id": "RyMKh1JG_iMl",
        "outputId": "cd1c03cd-eb4c-4b8a-fa25-513c7af499ad"
      },
      "execution_count": null,
      "outputs": [
        {
          "output_type": "execute_result",
          "data": {
            "text/plain": [
              "tensor([[0., 0., 0., 0.],\n",
              "        [0., 0., 0., 0.],\n",
              "        [0., 0., 0., 0.]])"
            ]
          },
          "metadata": {},
          "execution_count": 56
        }
      ]
    },
    {
      "cell_type": "code",
      "source": [
        "#creating a tensor of all 1's\n",
        "ones = torch.ones(3,4)\n",
        "ones"
      ],
      "metadata": {
        "colab": {
          "base_uri": "https://localhost:8080/"
        },
        "id": "m9H-rPN-_nJ_",
        "outputId": "c9f4c133-f847-42aa-d6d0-d48cbcf4c542"
      },
      "execution_count": null,
      "outputs": [
        {
          "output_type": "execute_result",
          "data": {
            "text/plain": [
              "tensor([[1., 1., 1., 1.],\n",
              "        [1., 1., 1., 1.],\n",
              "        [1., 1., 1., 1.]])"
            ]
          },
          "metadata": {},
          "execution_count": 57
        }
      ]
    },
    {
      "cell_type": "code",
      "source": [
        "ones.dtype"
      ],
      "metadata": {
        "id": "fpFo8nNfB2B0",
        "outputId": "0449d847-ff77-48fb-f9c4-fb473f7ed220",
        "colab": {
          "base_uri": "https://localhost:8080/"
        }
      },
      "execution_count": null,
      "outputs": [
        {
          "output_type": "execute_result",
          "data": {
            "text/plain": [
              "torch.float32"
            ]
          },
          "metadata": {},
          "execution_count": 58
        }
      ]
    },
    {
      "cell_type": "markdown",
      "source": [
        "Creating a range of tensors and tensors-like"
      ],
      "metadata": {
        "id": "_V-0FXF8B3yO"
      }
    },
    {
      "cell_type": "code",
      "source": [
        "range_tensor = torch.arange(0,10)"
      ],
      "metadata": {
        "id": "1Vtys663W2-h"
      },
      "execution_count": null,
      "outputs": []
    },
    {
      "cell_type": "code",
      "source": [
        "range_tensor"
      ],
      "metadata": {
        "colab": {
          "base_uri": "https://localhost:8080/"
        },
        "id": "yxEd9OFSW4tP",
        "outputId": "2295f0a7-cde7-432f-b8db-75c95d67fc56"
      },
      "execution_count": null,
      "outputs": [
        {
          "output_type": "execute_result",
          "data": {
            "text/plain": [
              "tensor([0, 1, 2, 3, 4, 5, 6, 7, 8, 9])"
            ]
          },
          "metadata": {},
          "execution_count": 6
        }
      ]
    },
    {
      "cell_type": "code",
      "source": [
        "range_tensor.ndim"
      ],
      "metadata": {
        "colab": {
          "base_uri": "https://localhost:8080/"
        },
        "id": "am63MBH6XNvd",
        "outputId": "bb3980dc-f31a-4a0d-f485-396107a1fca5"
      },
      "execution_count": null,
      "outputs": [
        {
          "output_type": "execute_result",
          "data": {
            "text/plain": [
              "1"
            ]
          },
          "metadata": {},
          "execution_count": 7
        }
      ]
    },
    {
      "cell_type": "code",
      "source": [
        "range_tensor.shape"
      ],
      "metadata": {
        "colab": {
          "base_uri": "https://localhost:8080/"
        },
        "id": "ytoC-2dUXPpS",
        "outputId": "0345c659-01ea-441c-9847-23e4e0f9da69"
      },
      "execution_count": null,
      "outputs": [
        {
          "output_type": "execute_result",
          "data": {
            "text/plain": [
              "torch.Size([10])"
            ]
          },
          "metadata": {},
          "execution_count": 9
        }
      ]
    },
    {
      "cell_type": "code",
      "source": [
        "#creating tensors like will give us a new tensor with the same shape as another tensor\n",
        "\n",
        "ten_zeros = torch.zeros_like(range_tensor)\n",
        "ten_zeros"
      ],
      "metadata": {
        "colab": {
          "base_uri": "https://localhost:8080/"
        },
        "id": "DYVlmhBVXl4q",
        "outputId": "40d6691b-df7c-455c-e1a5-631d8a83271e"
      },
      "execution_count": null,
      "outputs": [
        {
          "output_type": "execute_result",
          "data": {
            "text/plain": [
              "tensor([0, 0, 0, 0, 0, 0, 0, 0, 0, 0])"
            ]
          },
          "metadata": {},
          "execution_count": 12
        }
      ]
    },
    {
      "cell_type": "markdown",
      "source": [
        "###Tensor Datatypes\n",
        "\n",
        "default is float32, this will be float32 even if we specify it as None"
      ],
      "metadata": {
        "id": "LLSzRMFxXyGG"
      }
    },
    {
      "cell_type": "code",
      "source": [
        "float32_tensor = torch.tensor([3.0,6.0,9.0],\n",
        "                              dtype=torch.float32, #datatype of the tensor\n",
        "                              device=None, #the default is CPU\n",
        "                              requires_grad=False) #whether or not to track gradient\n",
        "float32_tensor"
      ],
      "metadata": {
        "id": "FQ4G_vARYZWY",
        "colab": {
          "base_uri": "https://localhost:8080/"
        },
        "outputId": "03206cfd-e18f-4cef-e1b7-5817fa78b5b6"
      },
      "execution_count": null,
      "outputs": [
        {
          "output_type": "execute_result",
          "data": {
            "text/plain": [
              "tensor([3., 6., 9.])"
            ]
          },
          "metadata": {},
          "execution_count": 21
        }
      ]
    },
    {
      "cell_type": "code",
      "source": [
        "float32_tensor.type(torch.float16)"
      ],
      "metadata": {
        "colab": {
          "base_uri": "https://localhost:8080/"
        },
        "id": "khozQD68Yqd7",
        "outputId": "918f639b-09dd-4f5d-e149-7bca54c892f8"
      },
      "execution_count": null,
      "outputs": [
        {
          "output_type": "execute_result",
          "data": {
            "text/plain": [
              "tensor([3., 6., 9.], dtype=torch.float16)"
            ]
          },
          "metadata": {},
          "execution_count": 3
        }
      ]
    },
    {
      "cell_type": "markdown",
      "source": [
        "Three most commonly encountered issues with tensors are\n",
        "\n",
        "\n",
        "1) the tensor not being the right datatype\n",
        "2) tensors not being the right shape\n",
        "3) tensors not being on the right device\n"
      ],
      "metadata": {
        "id": "-4uLFnTjZEnI"
      }
    },
    {
      "cell_type": "code",
      "source": [
        "float32_tensor.dtype"
      ],
      "metadata": {
        "colab": {
          "base_uri": "https://localhost:8080/"
        },
        "id": "iRlu0RCiZvhg",
        "outputId": "5d37eb77-ffda-4265-f707-79e650666cd6"
      },
      "execution_count": null,
      "outputs": [
        {
          "output_type": "execute_result",
          "data": {
            "text/plain": [
              "torch.float32"
            ]
          },
          "metadata": {},
          "execution_count": 20
        }
      ]
    },
    {
      "cell_type": "markdown",
      "source": [
        "###Getting information from tensors\n",
        "For shape use tensorName.shape\n",
        "\n",
        "\n",
        "For datatype use tensorName.dtype\n",
        "\n",
        "\n",
        "For device use tensorName.device\n",
        "\n",
        "No brackets as these are tensor attributes"
      ],
      "metadata": {
        "id": "WrtJ5EVobGvV"
      }
    },
    {
      "cell_type": "code",
      "source": [
        "float32_tensor.shape"
      ],
      "metadata": {
        "colab": {
          "base_uri": "https://localhost:8080/"
        },
        "id": "iY_9xtDgIXqa",
        "outputId": "aa779abf-b487-4815-9c06-0103dc929da8"
      },
      "execution_count": null,
      "outputs": [
        {
          "output_type": "execute_result",
          "data": {
            "text/plain": [
              "torch.Size([3])"
            ]
          },
          "metadata": {},
          "execution_count": 4
        }
      ]
    },
    {
      "cell_type": "code",
      "source": [
        "float32_tensor.dtype"
      ],
      "metadata": {
        "colab": {
          "base_uri": "https://localhost:8080/"
        },
        "id": "sWmwstduIy7j",
        "outputId": "d201442e-d2c9-445a-bace-79708e36bf15"
      },
      "execution_count": null,
      "outputs": [
        {
          "output_type": "execute_result",
          "data": {
            "text/plain": [
              "torch.float32"
            ]
          },
          "metadata": {},
          "execution_count": 5
        }
      ]
    },
    {
      "cell_type": "code",
      "source": [
        "float32_tensor.device"
      ],
      "metadata": {
        "colab": {
          "base_uri": "https://localhost:8080/"
        },
        "id": "zQQyZsMgI163",
        "outputId": "714b1443-48cd-44fc-9656-243f61e45b44"
      },
      "execution_count": null,
      "outputs": [
        {
          "output_type": "execute_result",
          "data": {
            "text/plain": [
              "device(type='cpu')"
            ]
          },
          "metadata": {},
          "execution_count": 6
        }
      ]
    },
    {
      "cell_type": "code",
      "source": [
        "float16_tensor = torch.rand(size=(3,5),\n",
        "                            device=None,\n",
        "                            dtype=torch.float16)\n",
        "float16_tensor"
      ],
      "metadata": {
        "colab": {
          "base_uri": "https://localhost:8080/"
        },
        "id": "_g5WRQbwJBKN",
        "outputId": "fae33709-6ad7-40fe-ff7a-7dd5ef8a1205"
      },
      "execution_count": null,
      "outputs": [
        {
          "output_type": "execute_result",
          "data": {
            "text/plain": [
              "tensor([[0.8726, 0.3711, 0.4141, 0.6499, 0.2144],\n",
              "        [0.6816, 0.3374, 0.6992, 0.1494, 0.3447],\n",
              "        [0.0044, 0.2739, 0.2100, 0.6694, 0.4829]], dtype=torch.float16)"
            ]
          },
          "metadata": {},
          "execution_count": 18
        }
      ]
    },
    {
      "cell_type": "code",
      "source": [
        "float32_tensor"
      ],
      "metadata": {
        "colab": {
          "base_uri": "https://localhost:8080/"
        },
        "id": "PdA2OqzuJSqN",
        "outputId": "e2dc5b0e-0caa-43c3-d414-e7f8c8f9183e"
      },
      "execution_count": null,
      "outputs": [
        {
          "output_type": "execute_result",
          "data": {
            "text/plain": [
              "tensor([3., 6., 9.])"
            ]
          },
          "metadata": {},
          "execution_count": 10
        }
      ]
    },
    {
      "cell_type": "code",
      "source": [
        "float16_tensor"
      ],
      "metadata": {
        "colab": {
          "base_uri": "https://localhost:8080/"
        },
        "id": "RfMvrO2TJaPH",
        "outputId": "20f0884b-3d5c-4981-8907-140b5d93b5f6"
      },
      "execution_count": null,
      "outputs": [
        {
          "output_type": "execute_result",
          "data": {
            "text/plain": [
              "tensor([[0.8726, 0.3711, 0.4141, 0.6499, 0.2144],\n",
              "        [0.6816, 0.3374, 0.6992, 0.1494, 0.3447],\n",
              "        [0.0044, 0.2739, 0.2100, 0.6694, 0.4829]], dtype=torch.float16)"
            ]
          },
          "metadata": {},
          "execution_count": 22
        }
      ]
    },
    {
      "cell_type": "code",
      "source": [
        "float16_tensor.ndim"
      ],
      "metadata": {
        "colab": {
          "base_uri": "https://localhost:8080/"
        },
        "id": "ecbPAhFWJdhw",
        "outputId": "7769336e-ef14-4129-edcb-020a58c7574a"
      },
      "execution_count": null,
      "outputs": [
        {
          "output_type": "execute_result",
          "data": {
            "text/plain": [
              "2"
            ]
          },
          "metadata": {},
          "execution_count": 23
        }
      ]
    },
    {
      "cell_type": "code",
      "source": [
        "float16_tensor.dtype"
      ],
      "metadata": {
        "colab": {
          "base_uri": "https://localhost:8080/"
        },
        "id": "StnSburmK1B8",
        "outputId": "36103ada-a58a-433a-ce63-c8157a3e1fff"
      },
      "execution_count": null,
      "outputs": [
        {
          "output_type": "execute_result",
          "data": {
            "text/plain": [
              "torch.float16"
            ]
          },
          "metadata": {},
          "execution_count": 24
        }
      ]
    },
    {
      "cell_type": "code",
      "source": [
        "float16_tensor.shape"
      ],
      "metadata": {
        "colab": {
          "base_uri": "https://localhost:8080/"
        },
        "id": "_mR-v8B4K3NQ",
        "outputId": "b540aef3-dc19-4069-a253-d9e45723d32e"
      },
      "execution_count": null,
      "outputs": [
        {
          "output_type": "execute_result",
          "data": {
            "text/plain": [
              "torch.Size([3, 5])"
            ]
          },
          "metadata": {},
          "execution_count": 25
        }
      ]
    },
    {
      "cell_type": "markdown",
      "source": [
        "###Tensor operations\n",
        "\n",
        "Addition\n",
        "\n",
        "subtration\n",
        "\n",
        "multiplication(element-wise)\n",
        "\n",
        "division\n",
        "\n",
        "matrix multiplication"
      ],
      "metadata": {
        "id": "TvJqSPGGK5rE"
      }
    },
    {
      "cell_type": "code",
      "source": [
        "#Addition\n",
        "\n",
        "tensor = torch.arange(0,3)\n",
        "tensor"
      ],
      "metadata": {
        "colab": {
          "base_uri": "https://localhost:8080/"
        },
        "id": "2_f4HBfQLYZ0",
        "outputId": "3f92ac6c-c2bd-43d3-b190-de3d527f3cc7"
      },
      "execution_count": null,
      "outputs": [
        {
          "output_type": "execute_result",
          "data": {
            "text/plain": [
              "tensor([0, 1, 2])"
            ]
          },
          "metadata": {},
          "execution_count": 27
        }
      ]
    },
    {
      "cell_type": "code",
      "source": [
        "tensor + 10"
      ],
      "metadata": {
        "colab": {
          "base_uri": "https://localhost:8080/"
        },
        "id": "OzZZSE02LuRC",
        "outputId": "e3fc70bc-10f6-423b-e37b-91a64bae7837"
      },
      "execution_count": null,
      "outputs": [
        {
          "output_type": "execute_result",
          "data": {
            "text/plain": [
              "tensor([10, 11, 12])"
            ]
          },
          "metadata": {},
          "execution_count": 28
        }
      ]
    },
    {
      "cell_type": "code",
      "source": [
        "tensor * 10"
      ],
      "metadata": {
        "colab": {
          "base_uri": "https://localhost:8080/"
        },
        "id": "Hgwq6PkxL0Mp",
        "outputId": "47e8df56-3840-4f18-d85a-d5ce2da23760"
      },
      "execution_count": null,
      "outputs": [
        {
          "output_type": "execute_result",
          "data": {
            "text/plain": [
              "tensor([ 0, 10, 20])"
            ]
          },
          "metadata": {},
          "execution_count": 29
        }
      ]
    },
    {
      "cell_type": "code",
      "source": [
        "tensor #Still 0,1,2 as we haven't reassigned our tensor"
      ],
      "metadata": {
        "colab": {
          "base_uri": "https://localhost:8080/"
        },
        "id": "pzmpass7L2ex",
        "outputId": "c0488ea7-b7f6-4058-cf53-981664b2fd5d"
      },
      "execution_count": null,
      "outputs": [
        {
          "output_type": "execute_result",
          "data": {
            "text/plain": [
              "tensor([0, 1, 2])"
            ]
          },
          "metadata": {},
          "execution_count": 31
        }
      ]
    },
    {
      "cell_type": "code",
      "source": [
        "tensor - 10"
      ],
      "metadata": {
        "colab": {
          "base_uri": "https://localhost:8080/"
        },
        "id": "iVZImS-uL5FX",
        "outputId": "739fa605-3969-4c5b-8376-9b569ac07a18"
      },
      "execution_count": null,
      "outputs": [
        {
          "output_type": "execute_result",
          "data": {
            "text/plain": [
              "tensor([-10,  -9,  -8])"
            ]
          },
          "metadata": {},
          "execution_count": 32
        }
      ]
    },
    {
      "cell_type": "code",
      "source": [
        "torch.mul(tensor, 10)"
      ],
      "metadata": {
        "colab": {
          "base_uri": "https://localhost:8080/"
        },
        "id": "yddB8L7mMDVd",
        "outputId": "bcf7cb1e-a922-4074-d40f-689aec548bb7"
      },
      "execution_count": null,
      "outputs": [
        {
          "output_type": "execute_result",
          "data": {
            "text/plain": [
              "tensor([ 0, 10, 20])"
            ]
          },
          "metadata": {},
          "execution_count": 33
        }
      ]
    },
    {
      "cell_type": "code",
      "source": [
        "tensor2 = torch.rand(1,3,\n",
        "                     dtype=torch.float16)\n",
        "tensor2"
      ],
      "metadata": {
        "colab": {
          "base_uri": "https://localhost:8080/"
        },
        "id": "XybPp3mZMNA3",
        "outputId": "b8ed2ecb-a03f-49d8-b789-9ccb0b41e2ea"
      },
      "execution_count": null,
      "outputs": [
        {
          "output_type": "execute_result",
          "data": {
            "text/plain": [
              "tensor([[0.1011, 0.0938, 0.7085]], dtype=torch.float16)"
            ]
          },
          "metadata": {},
          "execution_count": 46
        }
      ]
    },
    {
      "cell_type": "code",
      "source": [
        "tensor2 = torch.tensor([[1,2,3]])\n",
        "tensor = torch.tensor([[[2]]])"
      ],
      "metadata": {
        "id": "S6USGk_TMqTN"
      },
      "execution_count": null,
      "outputs": []
    },
    {
      "cell_type": "code",
      "source": [
        "tensor*tensor2"
      ],
      "metadata": {
        "colab": {
          "base_uri": "https://localhost:8080/"
        },
        "id": "edh-X_1jPk1e",
        "outputId": "32393add-a1f6-46c6-ed47-5be45cddaf55"
      },
      "execution_count": null,
      "outputs": [
        {
          "output_type": "execute_result",
          "data": {
            "text/plain": [
              "tensor([[[2, 4, 6]]])"
            ]
          },
          "metadata": {},
          "execution_count": 53
        }
      ]
    },
    {
      "cell_type": "code",
      "source": [
        "%%time\n",
        "torch.matmul(tensor,tensor2)"
      ],
      "metadata": {
        "colab": {
          "base_uri": "https://localhost:8080/"
        },
        "id": "jnqKmoUwPwNs",
        "outputId": "4c88559d-3807-465d-83db-55b75d67e2f0"
      },
      "execution_count": null,
      "outputs": [
        {
          "output_type": "stream",
          "name": "stdout",
          "text": [
            "CPU times: user 845 µs, sys: 0 ns, total: 845 µs\n",
            "Wall time: 521 µs\n"
          ]
        },
        {
          "output_type": "execute_result",
          "data": {
            "text/plain": [
              "tensor([[[2, 4, 6]]])"
            ]
          },
          "metadata": {},
          "execution_count": 56
        }
      ]
    },
    {
      "cell_type": "code",
      "source": [
        "tensor.shape"
      ],
      "metadata": {
        "colab": {
          "base_uri": "https://localhost:8080/"
        },
        "id": "f5e13DYBP1qV",
        "outputId": "29b3e175-3042-4413-c6e0-541804187578"
      },
      "execution_count": null,
      "outputs": [
        {
          "output_type": "execute_result",
          "data": {
            "text/plain": [
              "torch.Size([1, 1, 1])"
            ]
          },
          "metadata": {},
          "execution_count": 54
        }
      ]
    },
    {
      "cell_type": "code",
      "source": [
        "tensorA = torch.tensor([[1,2],\n",
        "                       [3,4],\n",
        "                       [5,6]],)\n",
        "tensorB = torch.tensor([[7,10,12],\n",
        "                       [8,11,13],])\n",
        "\n",
        "tensorC = torch.tensor(5)\n",
        "tensorC.dtype"
      ],
      "metadata": {
        "colab": {
          "base_uri": "https://localhost:8080/"
        },
        "id": "XCcvL3Y5QJmo",
        "outputId": "394d7ef2-5978-4497-8f64-5fdcddb1b497"
      },
      "execution_count": 17,
      "outputs": [
        {
          "output_type": "execute_result",
          "data": {
            "text/plain": [
              "torch.int64"
            ]
          },
          "metadata": {},
          "execution_count": 17
        }
      ]
    },
    {
      "cell_type": "code",
      "source": [],
      "metadata": {
        "colab": {
          "base_uri": "https://localhost:8080/"
        },
        "id": "Jl-XSEI-XQ2F",
        "outputId": "ca709804-589d-4e98-8bde-b9170e75fe93"
      },
      "execution_count": 20,
      "outputs": [
        {
          "output_type": "execute_result",
          "data": {
            "text/plain": [
              "torch.float32"
            ]
          },
          "metadata": {},
          "execution_count": 20
        }
      ]
    },
    {
      "cell_type": "code",
      "source": [
        "#Transpose\n",
        "\n",
        "tensorA @ tensorA.T"
      ],
      "metadata": {
        "colab": {
          "base_uri": "https://localhost:8080/"
        },
        "id": "Gh7OPxUdXVV2",
        "outputId": "39ea9f2f-1c0d-4f4d-fe51-493a08f4586e"
      },
      "execution_count": 5,
      "outputs": [
        {
          "output_type": "execute_result",
          "data": {
            "text/plain": [
              "tensor([[ 5, 11, 17],\n",
              "        [11, 25, 39],\n",
              "        [17, 39, 61]])"
            ]
          },
          "metadata": {},
          "execution_count": 5
        }
      ]
    },
    {
      "cell_type": "code",
      "source": [
        "tensorA.dtype"
      ],
      "metadata": {
        "id": "vLYxrmw6X3p9",
        "colab": {
          "base_uri": "https://localhost:8080/"
        },
        "outputId": "a711293d-0e76-4790-bbdb-704a44145115"
      },
      "execution_count": 14,
      "outputs": [
        {
          "output_type": "execute_result",
          "data": {
            "text/plain": [
              "torch.float64"
            ]
          },
          "metadata": {},
          "execution_count": 14
        }
      ]
    },
    {
      "cell_type": "markdown",
      "source": [
        "###Tensor aggregation"
      ],
      "metadata": {
        "id": "39Ta0qVmnlJC"
      }
    },
    {
      "cell_type": "code",
      "source": [
        "torch.min(tensorA) #can use tensor.min or you can use tensorName.min"
      ],
      "metadata": {
        "colab": {
          "base_uri": "https://localhost:8080/"
        },
        "id": "ipSxn1_Oolb-",
        "outputId": "a1632f78-e34a-41a9-befc-2ea6fafb97bb"
      },
      "execution_count": 24,
      "outputs": [
        {
          "output_type": "execute_result",
          "data": {
            "text/plain": [
              "tensor(1)"
            ]
          },
          "metadata": {},
          "execution_count": 24
        }
      ]
    },
    {
      "cell_type": "code",
      "source": [
        "tensorA.max()"
      ],
      "metadata": {
        "colab": {
          "base_uri": "https://localhost:8080/"
        },
        "id": "CMZjzLXxo1F5",
        "outputId": "d1d479e5-5e39-4a45-d3e2-763a35f245e3"
      },
      "execution_count": 8,
      "outputs": [
        {
          "output_type": "execute_result",
          "data": {
            "text/plain": [
              "tensor(6)"
            ]
          },
          "metadata": {},
          "execution_count": 8
        }
      ]
    },
    {
      "cell_type": "code",
      "source": [
        "tensorA.min()"
      ],
      "metadata": {
        "colab": {
          "base_uri": "https://localhost:8080/"
        },
        "id": "V7dNmWvyo4b_",
        "outputId": "fe848386-b9f8-4f90-cb69-e868aa8e6722"
      },
      "execution_count": 9,
      "outputs": [
        {
          "output_type": "execute_result",
          "data": {
            "text/plain": [
              "tensor(1)"
            ]
          },
          "metadata": {},
          "execution_count": 9
        }
      ]
    },
    {
      "cell_type": "markdown",
      "source": [
        "The tensorNAme.mean() requires a float datatype not int"
      ],
      "metadata": {
        "id": "w7VKwjrFqXBG"
      }
    },
    {
      "cell_type": "code",
      "source": [
        "tensorA.type(torch.float32).mean()"
      ],
      "metadata": {
        "colab": {
          "base_uri": "https://localhost:8080/"
        },
        "id": "-JqPWH0xo6BK",
        "outputId": "0a04bb3a-6bd6-47f9-8e4d-89186e1105f7"
      },
      "execution_count": 23,
      "outputs": [
        {
          "output_type": "execute_result",
          "data": {
            "text/plain": [
              "tensor(3.5000)"
            ]
          },
          "metadata": {},
          "execution_count": 23
        }
      ]
    },
    {
      "cell_type": "code",
      "source": [
        "tensorA.dtype"
      ],
      "metadata": {
        "colab": {
          "base_uri": "https://localhost:8080/"
        },
        "id": "ZSvLwaabpA65",
        "outputId": "ac67edaa-77eb-45a3-8bb2-e6beba8675d0"
      },
      "execution_count": 11,
      "outputs": [
        {
          "output_type": "execute_result",
          "data": {
            "text/plain": [
              "torch.int64"
            ]
          },
          "metadata": {},
          "execution_count": 11
        }
      ]
    },
    {
      "cell_type": "code",
      "source": [],
      "metadata": {
        "id": "i1TxCkSxpEtH"
      },
      "execution_count": null,
      "outputs": []
    }
  ]
}